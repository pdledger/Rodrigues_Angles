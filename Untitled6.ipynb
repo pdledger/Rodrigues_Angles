{
 "cells": [
  {
   "cell_type": "code",
   "execution_count": 4,
   "id": "5ee4a894",
   "metadata": {},
   "outputs": [
    {
     "name": "stdout",
     "output_type": "stream",
     "text": [
      "1.03176181174e-05\n",
      "1.7319359758e-05\n",
      "0.002905617014473862\n"
     ]
    }
   ],
   "source": [
    "#121152.76586285901 Combination of uR [-0.00230562 -0.00086415 -0.0015775 ]\n",
    "#121152.76586285901 Combination of uI [0.00015636 0.00023694 0.00016717]\n",
    "t1=[-0.00230562, -0.00086415, -0.0015775 ]\n",
    "t2=[ 0.00015636, 0.00023694, 0.00016717]\n",
    "#t1=[-0.00230562, -0.00086415, -0.0015775 ]\n",
    "#t2=[0.00023694, 0.00015636, 0.00016717] -1.3184808591443318e-07\n",
    "sum=0.\n",
    "for i in range(3):\n",
    "    sum+=(t1[i]-t2[i])**2\n",
    "print(sum)\n",
    "for i in range(3):\n",
    "    sum+=(abs(t1[i])-t2[i])**2\n",
    "print(sum)\n",
    "sum=0.\n",
    "for i in range(3):\n",
    "    sum+=(abs(t1[i])**2-t2[i]**2)\n",
    "print(sum**0.5)"
   ]
  },
  {
   "cell_type": "code",
   "execution_count": 5,
   "id": "73a63646",
   "metadata": {},
   "outputs": [
    {
     "name": "stdout",
     "output_type": "stream",
     "text": [
      "1.0549925422600001e-05\n",
      "6.769434335399998e-06\n",
      "0.002905617014473862\n"
     ]
    }
   ],
   "source": [
    "#121152.76586285901 Combination of uR [-0.00230562 -0.00086415 -0.0015775 ]\n",
    "#121152.76586285901 Combination of uI [0.00023694 0.00015636 0.00016717]\n",
    "t1=[-0.00230562, -0.00086415, -0.0015775 ]\n",
    "t2=[0.00023694, 0.00015636, 0.00016717]\n",
    "#t1=[-0.00230562, -0.00086415, -0.0015775 ]\n",
    "#t2=[0.00015636, 0.00023694, 0.00016717] 1.004404358190329e-07\n",
    "sum=0.\n",
    "for i in range(3):\n",
    "    sum+=(t1[i]-t2[i])**2\n",
    "print(sum)\n",
    "sum=0.\n",
    "for i in range(3):\n",
    "    sum+=(abs(t1[i])-t2[i])**2\n",
    "print(sum)\n",
    "sum=0.\n",
    "for i in range(3):\n",
    "    sum+=(abs(t1[i])**2-t2[i]**2)\n",
    "print(sum**0.5)"
   ]
  },
  {
   "cell_type": "code",
   "execution_count": 6,
   "id": "fef30455",
   "metadata": {},
   "outputs": [
    {
     "name": "stdout",
     "output_type": "stream",
     "text": [
      "1.0417158976399999e-05\n",
      "6.902200781600001e-06\n",
      "0.002905617014473862\n"
     ]
    }
   ],
   "source": [
    "w1=[-0.00086415, -0.0015775,  -0.00230562]\n",
    "w2=[0.00016717, 0.00023694, 0.00015636] #9.007156126160331e-10\n",
    "sum=0.\n",
    "for i in range(3):\n",
    "    sum+=(w1[i]-w2[i])**2\n",
    "print(sum)\n",
    "sum=0.\n",
    "for i in range(3):\n",
    "    sum+=(abs(w1[i])-w2[i])**2\n",
    "print(sum)\n",
    "sum=0.\n",
    "for i in range(3):\n",
    "    sum+=((w1[i])**2-w2[i]**2)\n",
    "print(sum**0.5)"
   ]
  },
  {
   "cell_type": "code",
   "execution_count": null,
   "id": "aa1943d6",
   "metadata": {},
   "outputs": [],
   "source": []
  },
  {
   "cell_type": "code",
   "execution_count": null,
   "id": "e35d5df0",
   "metadata": {},
   "outputs": [],
   "source": []
  }
 ],
 "metadata": {
  "kernelspec": {
   "display_name": "Python 3 (ipykernel)",
   "language": "python",
   "name": "python3"
  },
  "language_info": {
   "codemirror_mode": {
    "name": "ipython",
    "version": 3
   },
   "file_extension": ".py",
   "mimetype": "text/x-python",
   "name": "python",
   "nbconvert_exporter": "python",
   "pygments_lexer": "ipython3",
   "version": "3.10.13"
  },
  "varInspector": {
   "cols": {
    "lenName": 16,
    "lenType": 16,
    "lenVar": 40
   },
   "kernels_config": {
    "python": {
     "delete_cmd_postfix": "",
     "delete_cmd_prefix": "del ",
     "library": "var_list.py",
     "varRefreshCmd": "print(var_dic_list())"
    },
    "r": {
     "delete_cmd_postfix": ") ",
     "delete_cmd_prefix": "rm(",
     "library": "var_list.r",
     "varRefreshCmd": "cat(var_dic_list()) "
    }
   },
   "types_to_exclude": [
    "module",
    "function",
    "builtin_function_or_method",
    "instance",
    "_Feature"
   ],
   "window_display": false
  }
 },
 "nbformat": 4,
 "nbformat_minor": 5
}
