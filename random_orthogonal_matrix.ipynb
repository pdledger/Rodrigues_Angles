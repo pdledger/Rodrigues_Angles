{
 "cells": [
  {
   "cell_type": "markdown",
   "id": "9d638f86",
   "metadata": {},
   "source": [
    "Consider different random orthogonal matrices. Fix eigenvalue (eg assuming two to be the same) and consider the error in the approximation of dR by dC and dE.\n",
    "\n",
    "See details on random orthogonal matrices from Nick Higham https://nhigham.com/2020/04/22/what-is-a-random-orthogonal-matrix/"
   ]
  },
  {
   "cell_type": "code",
   "execution_count": 1,
   "id": "decbe93a",
   "metadata": {},
   "outputs": [],
   "source": [
    "from time import time\n",
    "import numpy as np\n",
    "import os\n",
    "import sys\n",
    "from matplotlib import pyplot as plt\n",
    "from scipy.stats import ortho_group\n",
    "# include the src path\n",
    "sys.path.insert(0, \"src\")\n",
    "from EigenValueDecomposition import *\n",
    "from MinMaxthetafromQRQI import *\n",
    "from SortEigenValues import *\n",
    "from AnglesSortedQRQI import *\n",
    "from SplitTensor import *\n",
    "from Fmeasure import *\n",
    "from Commeasure import *"
   ]
  },
  {
   "cell_type": "code",
   "execution_count": 2,
   "id": "88c3c024",
   "metadata": {},
   "outputs": [],
   "source": [
    "# Fix number of cases to be considered and fix some eigenvalues.\n",
    "N=100\n",
    "uR=np.diag([1,1,2])\n",
    "uI=np.diag([2,2,3])\n",
    "N0=np.zeros((3,3))\n",
    "Rstore=np.zeros((N,9))\n",
    "Istore=np.zeros((N,9))\n",
    "Mlist=np.zeros(9, dtype=complex)\n",
    "TensorArray=np.zeros((N,9),dtype=complex)\n",
    "Frequencies=np.zeros(N)"
   ]
  },
  {
   "cell_type": "code",
   "execution_count": 3,
   "id": "b7998e82",
   "metadata": {
    "scrolled": false
   },
   "outputs": [
    {
     "name": "stdout",
     "output_type": "stream",
     "text": [
      "2.0 2.0\n",
      "0.07662231137027918\n",
      "0.6775443510003989\n"
     ]
    },
    {
     "ename": "NameError",
     "evalue": "name 'time' is not defined",
     "output_type": "error",
     "traceback": [
      "\u001b[0;31m---------------------------------------------------------------------------\u001b[0m",
      "\u001b[0;31mNameError\u001b[0m                                 Traceback (most recent call last)",
      "Cell \u001b[0;32mIn[3], line 37\u001b[0m\n\u001b[1;32m     34\u001b[0m MultRstore, MultIstore, MultRtildestore, URstore, UIstore, URtildestore, QRstore, QIstore, QRtildestore \u001b[38;5;241m=\u001b[39m EigenValueDecomposition(N0,TensorArray,Frequencies)\n\u001b[1;32m     36\u001b[0m \u001b[38;5;66;03m# Determine the maximal and minimal angles from QR and QI also output d_F metric for these orderings\u001b[39;00m\n\u001b[0;32m---> 37\u001b[0m MinAnglestoreRI, MaxAnglestoreRI, dFMinAnglestoreRI, dFMaxAnglestoreRI \u001b[38;5;241m=\u001b[39m \u001b[43mMinMaxthetafromQRQI\u001b[49m\u001b[43m(\u001b[49m\u001b[43mFrequencies\u001b[49m\u001b[43m,\u001b[49m\u001b[43mQRstore\u001b[49m\u001b[43m,\u001b[49m\u001b[43mQIstore\u001b[49m\u001b[43m,\u001b[49m\u001b[43mURstore\u001b[49m\u001b[43m,\u001b[49m\u001b[43m \u001b[49m\u001b[43mUIstore\u001b[49m\u001b[43m,\u001b[49m\u001b[43mMultRstore\u001b[49m\u001b[43m,\u001b[49m\u001b[43mMultIstore\u001b[49m\u001b[43m)\u001b[49m\n\u001b[1;32m     39\u001b[0m \u001b[38;5;66;03m# Sort eigenvalues (and eigenvectors) so that || Lambda_R - Lambda_I || is maximal\u001b[39;00m\n\u001b[1;32m     40\u001b[0m sorteigenvalues\u001b[38;5;241m=\u001b[39m\u001b[38;5;124m\"\u001b[39m\u001b[38;5;124mMaxDifference\u001b[39m\u001b[38;5;124m\"\u001b[39m\n",
      "File \u001b[0;32m~/Coding/Rodrigues_Angles/src/MinMaxthetafromQRQI.py:71\u001b[0m, in \u001b[0;36mMinMaxthetafromQRQI\u001b[0;34m(Frequencies, QRstore, QIstore, URstore, UIstore, MultRstore, MultIstore)\u001b[0m\n\u001b[1;32m     69\u001b[0m dF_min \u001b[38;5;241m=\u001b[39m dFmetric(QR,QI)\n\u001b[1;32m     70\u001b[0m \u001b[38;5;28mprint\u001b[39m(min_angle)\n\u001b[0;32m---> 71\u001b[0m \u001b[43mtime\u001b[49m\u001b[38;5;241m.\u001b[39msleep(\u001b[38;5;241m10\u001b[39m)\n\u001b[1;32m     73\u001b[0m \u001b[38;5;66;03m#QR, QI, uR = CheckOrdering(QR,QI,uR,1)\u001b[39;00m\n\u001b[1;32m     74\u001b[0m \u001b[38;5;66;03m# Arrange for a maximal angle\u001b[39;00m\n\u001b[1;32m     75\u001b[0m \u001b[38;5;28;01mif\u001b[39;00m np\u001b[38;5;241m.\u001b[39msign(QR[:,\u001b[38;5;241m0\u001b[39m]\u001b[38;5;129m@QI\u001b[39m[:,\u001b[38;5;241m0\u001b[39m])\u001b[38;5;241m>\u001b[39m \u001b[38;5;241m0\u001b[39m:\n",
      "\u001b[0;31mNameError\u001b[0m: name 'time' is not defined"
     ]
    }
   ],
   "source": [
    "for n in range(N):\n",
    "    # Generate a random orthogonal matrix for R and I\n",
    "    orthogonalmatrixR = ortho_group.rvs(dim=3)\n",
    "    #orthogonalmatrixI = ortho_group.rvs(dim=3)\n",
    "    Rot=np.zeros((3,3))\n",
    "    theta=0.1\n",
    "    Rot[0,0] =1\n",
    "    Rot[1,1] =np.cos(theta)\n",
    "    Rot[1,2] = -np.sin(theta)\n",
    "    Rot[2,1] = np.sin(theta)\n",
    "    Rot[2,2] = np.cos(theta)\n",
    "    orthogonalmatrixI=Rot@orthogonalmatrixR\n",
    "    # Obtain the corresponding R and I\n",
    "    R=np.transpose(orthogonalmatrixR)@uR@orthogonalmatrixR\n",
    "    I=np.transpose(orthogonalmatrixI)@uI@orthogonalmatrixI\n",
    "    Rtilde=R+N0\n",
    "    M=Rtilde+1j*I\n",
    "    Mlist[0]=M[0,0]\n",
    "    Mlist[1]=M[0,1]\n",
    "    Mlist[2]=M[0,2]\n",
    "    Mlist[3]=M[1,0]\n",
    "    Mlist[4]=M[1,1]\n",
    "    Mlist[5]=M[1,2]\n",
    "    Mlist[6]=M[2,0]\n",
    "    Mlist[7]=M[2,1]\n",
    "    Mlist[8]=M[2,2]\n",
    "    for i in range(9):\n",
    "        TensorArray[n,i]=Mlist[i]\n",
    "\n",
    "        \n",
    "Rstore,Istore,Rtildestore = SplitTensor(TensorArray,Frequencies,N0)\n",
    "\n",
    "# Determine eigenvalue decompositions of N0, R, I, Rtilde (no sorting applied), and their multiplicities\n",
    "MultRstore, MultIstore, MultRtildestore, URstore, UIstore, URtildestore, QRstore, QIstore, QRtildestore = EigenValueDecomposition(N0,TensorArray,Frequencies)\n",
    "\n",
    "# Determine the maximal and minimal angles from QR and QI also output d_F metric for these orderings\n",
    "MinAnglestoreRI, MaxAnglestoreRI, dFMinAnglestoreRI, dFMaxAnglestoreRI = MinMaxthetafromQRQI(Frequencies,QRstore,QIstore,URstore, UIstore,MultRstore,MultIstore)\n",
    "\n",
    "# Sort eigenvalues (and eigenvectors) so that || Lambda_R - Lambda_I || is maximal\n",
    "sorteigenvalues=\"MaxDifference\"\n",
    "\n",
    "#SortedMultRstore, SortedMultIstore, SortedMultRtildestore, SortedURstore, SortedUIstore, SortedURtildestore, SortedQRstore, SortedQIstore, SortedQRtildestore = SortEigenValues(MultRstore, MultIstore, MultRtildestore, URstore, UIstore, URtildestore, QRstore, QIstore, QRtildestore, Frequencies)\n",
    "SortedMultRstore, SortedMultIstore, SortedURstore, SortedUIstore, SortedQRstore, SortedQIstore, SortedKstore = SortEigenValues(MultRstore, MultIstore, URstore, UIstore, QRstore, QIstore, Frequencies, sorteigenvalues)\n",
    "\n",
    "# Obtain angles for this sorted min-max combination\n",
    "AnglestoreRIsortedmaxdiff = AnglesSortedQRQI(SortedQRstore,SortedQIstore,Frequencies)\n",
    "\n",
    "#Obtain f meauses (approx and exact constant)\n",
    "AnglestoreRIfmeasfullconstsortedmaxdiff, AnglestoreRIfmeasapprxconstsortedmaxdiff_min,AnglestoreRIfmeasapprxconstsortedmaxdiff_max = Fmeasure(sorteigenvalues,SortedURstore, SortedUIstore, SortedQRstore, SortedQIstore, SortedKstore, Rstore,Istore, Frequencies)\n",
    "\n",
    "#Obtain Com-meauses (approx and exact constant)\n",
    "AnglestoreRIcommeasfullconstsortedmaxdiff, AnglestoreRIcommeasapprxconstsortedmaxdiff_min,AnglestoreRIcommeasapprxconstsortedmaxdiff_max = Commeasure(sorteigenvalues,SortedURstore, SortedUIstore, SortedQRstore, SortedQIstore, SortedKstore, Rstore,Istore, Frequencies)\n",
    "\n",
    "\n",
    "# Compute error measures\n",
    "# Error between d_R and approx d_R from d_E\n",
    "d_R=MinAnglestoreRI\n",
    "d_E=np.fmin(AnglestoreRIfmeasapprxconstsortedmaxdiff_min,AnglestoreRIfmeasapprxconstsortedmaxdiff_max)\n",
    "Err_dR_dE = np.abs(d_R-d_E)/np.abs(d_R)\n",
    "    \n",
    "# Error between d_R and approx d_R from d_C\n",
    "d_C = np.fmin(AnglestoreRIcommeasapprxconstsortedmaxdiff_min,AnglestoreRIcommeasapprxconstsortedmaxdiff_max )\n",
    "Err_dR_dC = np.abs(d_R-d_C)/np.abs(d_R)\n",
    "\n"
   ]
  },
  {
   "cell_type": "code",
   "execution_count": null,
   "id": "ee103d49",
   "metadata": {},
   "outputs": [],
   "source": [
    "plt.hist(Err_dR_dE)\n",
    "plt.show()     \n",
    "print(Err_dR_dE)"
   ]
  },
  {
   "cell_type": "code",
   "execution_count": 5,
   "id": "53f49b4a",
   "metadata": {},
   "outputs": [
    {
     "data": {
      "text/plain": [
       "array([0.69375238, 1.18402093, 0.98175417, 0.16572083, 0.07320329,\n",
       "       0.84458114, 1.17347162, 0.17806028, 1.34275951, 0.72066012,\n",
       "       1.17228838, 1.32784962, 1.00456714, 1.0260991 , 1.35349224,\n",
       "       0.84588003, 0.97036689, 0.75958108, 0.72820262, 0.10877364,\n",
       "       0.6537065 , 0.76878354, 0.10071297, 0.80672238, 1.1587744 ,\n",
       "       1.38192264, 0.75626074, 1.16397048, 0.99816595, 0.11827596,\n",
       "       1.25289956, 0.67114818, 1.43389382, 0.98403277, 0.85546535,\n",
       "       1.01112669, 0.12494565, 0.91919488, 1.35347025, 0.16637287,\n",
       "       1.01901136, 0.83823348, 0.85480818, 1.48043202, 0.08945516,\n",
       "       0.16001952, 0.81093097, 0.78561903, 1.25803675, 1.3265563 ,\n",
       "       0.9453545 , 1.46369471, 1.03636583, 0.07508654, 0.9119938 ,\n",
       "       1.186642  , 0.13075739, 1.16128427, 0.68107996, 1.33628358,\n",
       "       0.09412145, 0.74481094, 1.11359382, 0.62843178, 1.43889236,\n",
       "       0.15448242, 1.4121126 , 0.12392281, 0.18529833, 0.66661664,\n",
       "       0.11058836, 0.15015655, 1.17638163, 1.34001194, 1.22638025,\n",
       "       0.81742286, 1.01087846, 1.080497  , 1.36174027, 0.12008783,\n",
       "       0.82785518, 0.0699781 , 1.23915273, 1.03332112, 0.74740945,\n",
       "       1.33302281, 0.74173967, 0.09284948, 0.92402673, 0.71864145,\n",
       "       1.04033606, 1.34102466, 1.10995334, 0.06292903, 1.00118673,\n",
       "       0.19342777, 0.95232402, 1.35232702, 0.94545468, 0.08723249])"
      ]
     },
     "execution_count": 5,
     "metadata": {},
     "output_type": "execute_result"
    }
   ],
   "source": [
    "d_R"
   ]
  },
  {
   "cell_type": "code",
   "execution_count": 6,
   "id": "a8d51f41",
   "metadata": {},
   "outputs": [
    {
     "data": {
      "image/png": "[encoded data removed]",
      "text/plain": [
       "<Figure size 640x480 with 1 Axes>"
      ]
     },
     "metadata": {},
     "output_type": "display_data"
    }
   ],
   "source": [
    "plt.hist(Err_dR_dC)\n",
    "plt.show()     "
   ]
  },
  {
   "cell_type": "code",
   "execution_count": 6,
   "id": "6711acdf",
   "metadata": {},
   "outputs": [
    {
     "name": "stdout",
     "output_type": "stream",
     "text": [
      "[0.94467944 0.93925845 0.93355666 0.94475196 0.93872781 0.93502154\n",
      " 0.93660271 0.94960623 0.93487888 0.94330511 0.93444055 0.94108209\n",
      " 0.93617071 0.93374298 0.94600707 0.93665227 0.94027223 0.93540747\n",
      " 0.93907726 0.93988516 0.93540635 0.93563217 0.95143742 0.93444558\n",
      " 0.93673266 0.94875651 0.9368373  0.94875587 0.93533729 0.9424265\n",
      " 0.94106803 0.93769843 0.93681404 0.94072477 0.94073151 0.93526758\n",
      " 0.94435034 0.94121549 0.93292782 0.9377851  0.93829875 0.93843694\n",
      " 0.93544518 0.94119382 0.95075704 0.95112641 0.9423451  0.9463781\n",
      " 0.93781383 0.94145647 0.93947151 0.93323012 0.94534948 0.93309959\n",
      " 0.93569259 0.93365436 0.93776853 0.94095197 0.93618988 0.93553211\n",
      " 0.93702574 0.94136604 0.94242032 0.94888284 0.93887132 0.94930969\n",
      " 0.93379958 0.94220882 0.93501392 0.94119737 0.93520496 0.94708616\n",
      " 0.93999607 0.93949493 0.94016385 0.9379374  0.93700678 0.93652051\n",
      " 0.94088977 0.93705335 0.93499426 0.93854049 0.9420693  0.94134783\n",
      " 0.94316259 0.93791191 0.93556355 0.93414452 0.94553829 0.94850207\n",
      " 0.93543997 0.94710072 0.93439857 0.93787281 0.95044035 0.94141169\n",
      " 0.93769856 0.94853364 0.9427154  0.94301287]\n"
     ]
    }
   ],
   "source": [
    "print(Err_dR_dC)"
   ]
  },
  {
   "cell_type": "code",
   "execution_count": 7,
   "id": "4db0edd2",
   "metadata": {},
   "outputs": [
    {
     "data": {
      "text/plain": [
       "array([1.79561936, 1.63536597, 1.49502825, 1.79797627, 1.62120324,\n",
       "       1.52873215, 1.5668598 , 1.97116968, 1.52538326, 1.75209199,\n",
       "       1.51518448, 1.68598412, 1.5562553 , 1.49923242, 1.83977178,\n",
       "       1.56808568, 1.66312361, 1.53786604, 1.63050232, 1.65241511,\n",
       "       1.53783955, 1.54323464, 2.04549805, 1.51530084, 1.57007809,\n",
       "       1.93848351, 1.57267914, 1.93845939, 1.53619706, 1.72535391,\n",
       "       1.68558197, 1.59441682, 1.57210034, 1.67582075, 1.67601144,\n",
       "       1.53454277, 1.78500026, 1.68981031, 1.48101145, 1.59663788,\n",
       "       1.60992947, 1.61354344, 1.53876446, 1.6891874 , 2.01723586,\n",
       "       2.03248148, 1.72291798, 1.85250167, 1.59737563, 1.69676576,\n",
       "       1.64112242, 1.48771667, 1.81763449, 1.4848141 , 1.54468467,\n",
       "       1.49722972, 1.5962127 , 1.68226895, 1.55672269, 1.54083929,\n",
       "       1.57738532, 1.69414889, 1.72516885, 1.94327431, 1.62500929,\n",
       "       1.95963807, 1.50051412, 1.71885507, 1.52855294, 1.6892894 ,\n",
       "       1.53305977, 1.8772909 , 1.65546921, 1.64175763, 1.66011113,\n",
       "       1.60055609, 1.57691052, 1.56483093, 1.68049882, 1.5780771 ,\n",
       "       1.52809061, 1.61626181, 1.71471533, 1.69362314, 1.7476988 ,\n",
       "       1.59989882, 1.5415911 , 1.50837367, 1.82393601, 1.92890595,\n",
       "       1.53864029, 1.87780769, 1.51421497, 1.59889185, 2.00434539,\n",
       "       1.69546889, 1.59442015, 1.93008908, 1.7340553 , 1.74310704])"
      ]
     },
     "execution_count": 7,
     "metadata": {},
     "output_type": "execute_result"
    }
   ],
   "source": [
    "d_R"
   ]
  },
  {
   "cell_type": "code",
   "execution_count": 8,
   "id": "39eb2c02",
   "metadata": {},
   "outputs": [
    {
     "data": {
      "text/plain": [
       "array([0.09933467, 0.09933467, 0.09933467, 0.09933467, 0.09933467,\n",
       "       0.09933467, 0.09933467, 0.09933467, 0.09933467, 0.09933467,\n",
       "       0.09933467, 0.09933467, 0.09933467, 0.09933467, 0.09933467,\n",
       "       0.09933467, 0.09933467, 0.09933467, 0.09933467, 0.09933467,\n",
       "       0.09933467, 0.09933467, 0.09933467, 0.09933467, 0.09933467,\n",
       "       0.09933467, 0.09933467, 0.09933467, 0.09933467, 0.09933467,\n",
       "       0.09933467, 0.09933467, 0.09933467, 0.09933467, 0.09933467,\n",
       "       0.09933467, 0.09933467, 0.09933467, 0.09933467, 0.09933467,\n",
       "       0.09933467, 0.09933467, 0.09933467, 0.09933467, 0.09933467,\n",
       "       0.09933467, 0.09933467, 0.09933467, 0.09933467, 0.09933467,\n",
       "       0.09933467, 0.09933467, 0.09933467, 0.09933467, 0.09933467,\n",
       "       0.09933467, 0.09933467, 0.09933467, 0.09933467, 0.09933467,\n",
       "       0.09933467, 0.09933467, 0.09933467, 0.09933467, 0.09933467,\n",
       "       0.09933467, 0.09933467, 0.09933467, 0.09933467, 0.09933467,\n",
       "       0.09933467, 0.09933467, 0.09933467, 0.09933467, 0.09933467,\n",
       "       0.09933467, 0.09933467, 0.09933467, 0.09933467, 0.09933467,\n",
       "       0.09933467, 0.09933467, 0.09933467, 0.09933467, 0.09933467,\n",
       "       0.09933467, 0.09933467, 0.09933467, 0.09933467, 0.09933467,\n",
       "       0.09933467, 0.09933467, 0.09933467, 0.09933467, 0.09933467,\n",
       "       0.09933467, 0.09933467, 0.09933467, 0.09933467, 0.09933467])"
      ]
     },
     "execution_count": 8,
     "metadata": {},
     "output_type": "execute_result"
    }
   ],
   "source": [
    "d_C\n"
   ]
  },
  {
   "cell_type": "code",
   "execution_count": null,
   "id": "4d2fd448",
   "metadata": {},
   "outputs": [],
   "source": []
  }
 ],
 "metadata": {
  "kernelspec": {
   "display_name": "Python 3 (ipykernel)",
   "language": "python",
   "name": "python3"
  },
  "language_info": {
   "codemirror_mode": {
    "name": "ipython",
    "version": 3
   },
   "file_extension": ".py",
   "mimetype": "text/x-python",
   "name": "python",
   "nbconvert_exporter": "python",
   "pygments_lexer": "ipython3",
   "version": "3.10.13"
  },
  "varInspector": {
   "cols": {
    "lenName": 16,
    "lenType": 16,
    "lenVar": 40
   },
   "kernels_config": {
    "python": {
     "delete_cmd_postfix": "",
     "delete_cmd_prefix": "del ",
     "library": "var_list.py",
     "varRefreshCmd": "print(var_dic_list())"
    },
    "r": {
     "delete_cmd_postfix": ") ",
     "delete_cmd_prefix": "rm(",
     "library": "var_list.r",
     "varRefreshCmd": "cat(var_dic_list()) "
    }
   },
   "types_to_exclude": [
    "module",
    "function",
    "builtin_function_or_method",
    "instance",
    "_Feature"
   ],
   "window_display": false
  }
 },
 "nbformat": 4,
 "nbformat_minor": 5
}
