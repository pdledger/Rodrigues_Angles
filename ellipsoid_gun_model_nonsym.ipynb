{
 "cells": [
  {
   "cell_type": "code",
   "execution_count": 2,
   "id": "fc7db0b0",
   "metadata": {},
   "outputs": [],
   "source": [
    "#%matplotlib notebook\n",
    "# Do for the snapshots\n",
    "from main import *\n",
    "import numpy\n",
    "\n",
    "\n",
    "MaxOmega=1e8\n",
    "p=5\n",
    "mu=100\n",
    "alpha=0.01\n",
    "\n",
    "directory=\"OCC_Gun_modelv2_nonsym_StainSt/al_\"+str(alpha)+\"_mu_1,\"+str(mu)+\"_sig_1.45e6,4.5e6/1e1-1e8_100_el_26657_ord_\"+str(p)+\"_POD_13_1e-6/Data/\"\n",
    "TensorArray = np.genfromtxt(directory+'Tensors.csv', dtype=complex, delimiter=', ')\n",
    "N0 =          np.genfromtxt(directory+'N0.csv', dtype=float, delimiter=',')\n",
    "Frequencies = np.genfromtxt(directory+'Frequencies.csv', dtype=float, delimiter=', ')\n",
    "N=len(Frequencies)\n",
    "\n",
    "\n",
    "uRtildestore = np.zeros((N,3))\n",
    "uRstore = np.zeros((N,3))\n",
    "uIstore = np.zeros((N,3))\n",
    "uN0store = np.zeros((N,3))\n"
   ]
  },
  {
   "cell_type": "code",
   "execution_count": 3,
   "id": "04cec169",
   "metadata": {
    "scrolled": false
   },
   "outputs": [
    {
     "name": "stdout",
     "output_type": "stream",
     "text": [
      "Opening files from this path =  OCC_Gun_modelv2_nonsym_StainSt/al_0.01_mu_1,100_sig_1.45e6,4.5e6/1e1-1e8_100_el_26657_ord_5_POD_13_1e-6/Data/\n"
     ]
    },
    {
     "name": "stderr",
     "output_type": "stream",
     "text": [
      "/Users/paulledger/Coding/Rodrigues_Angles/src/Fmeasure.py:36: RuntimeWarning: divide by zero encountered in scalar divide\n",
      "  Fexactconst[n] = np.abs(np.linalg.norm(R-I,ord='fro')**2 - diffeig) / np.abs(normalisation)\n",
      "/Users/paulledger/Coding/Rodrigues_Angles/src/Commeasure.py:37: RuntimeWarning: divide by zero encountered in scalar divide\n",
      "  Comexactconst[n] = np.abs(np.linalg.norm(Z,ord='fro')**2 ) / np.abs(normalisation)\n"
     ]
    },
    {
     "name": "stdout",
     "output_type": "stream",
     "text": [
      "Computing F measure Tilde\n",
      "finished\n"
     ]
    }
   ],
   "source": [
    "\n",
    "#RIResultsFull,RtildeIResultsFull, N0IResultsFull, N0RResultsFull, N0RtildeResultsFull=main(directory,MaxOmega,Figures=\"On\",FullRom=\"Full\")    \n",
    "RIResults,RtildeIResults, N0IResults, N0RResults, N0RtildeResults=main(directory,MaxOmega,Figures=\"Off\",FullRom=\"Rom\")    \n",
    "\n",
    "\n",
    "print(\"finished\")\n"
   ]
  },
  {
   "cell_type": "code",
   "execution_count": 4,
   "id": "5b6e09ca",
   "metadata": {},
   "outputs": [],
   "source": [
    "#RIResultsDF=pd.DataFrame.from_dict(RIResults)\n",
    "#RIResultsDF.to_csv('RIResults.csv',index=False)\n",
    "#with open(\"RIResults.json\", \"w\") as outfile: \n",
    "#    json.dump(RIResults, outfile, cls=NumpyArrayEncoder)\n"
   ]
  },
  {
   "cell_type": "code",
   "execution_count": 5,
   "id": "ee7d7a60",
   "metadata": {},
   "outputs": [],
   "source": [
    "#RIResultsDF=pd.read_csv('RIResults.csv')  \n",
    "#RIResults=RIResultsDF.to_dict()"
   ]
  },
  {
   "cell_type": "code",
   "execution_count": 6,
   "id": "171686e1",
   "metadata": {},
   "outputs": [],
   "source": [
    "angles=\"On\""
   ]
  },
  {
   "cell_type": "code",
   "execution_count": 7,
   "id": "62e749c1",
   "metadata": {
    "scrolled": false
   },
   "outputs": [
    {
     "name": "stdout",
     "output_type": "stream",
     "text": [
      "1.9092943197382163e-07 4.2275714036578995e-06 9.774995071486316e-07\n",
      "5237537.186708386 236542.4269675851 1023018.4186148619\n"
     ]
    }
   ],
   "source": [
    "import numpy as np\n",
    "import matplotlib.pyplot as plt\n",
    "\n",
    "from ipywidgets import interact,interactive,widgets\n",
    "TensorArray = np.genfromtxt(directory+'Tensors.csv', dtype=complex, delimiter=', ')\n",
    "N0 =          np.genfromtxt(directory+'N0.csv', dtype=float, delimiter=',')\n",
    "Frequencies = np.genfromtxt(directory+'Frequencies.csv', dtype=float, delimiter=', ')\n",
    "\n",
    "# Compute all eigenvalues\n",
    "for n in range(N):\n",
    "    Mlist = TensorArray[n,:]\n",
    "    Mten = np.array([[Mlist[0], Mlist[1], Mlist[2]],[Mlist[3], Mlist[4], Mlist[5]],[Mlist[6], Mlist[7], Mlist[8]]])\n",
    "    Rtilde = np.real(Mten)\n",
    "    uRtilde,VRtilde=np.linalg.eig(Rtilde)\n",
    "    uRtilde=np.sort((uRtilde))\n",
    "    R =Rtilde-N0\n",
    "    uR,VR=np.linalg.eig(R)\n",
    "    uR=np.sort((uR))\n",
    "    I = np.imag(Mten)\n",
    "    uI,VI=np.linalg.eig(I)\n",
    "    uI=np.sort(uI)\n",
    "    uRtildestore[n,:]=uRtilde\n",
    "    uRstore[n,:]=uR\n",
    "    uIstore[n,:]=uI\n",
    "    uN0,VN0=np.linalg.eig(N0)\n",
    "    uN0=np.sort(uN0)\n",
    "    uN0store[n,:]=uN0\n",
    "    \n",
    "limR=np.min(np.abs(uRstore))\n",
    "limI=np.min(np.abs(uIstore))\n",
    "limRtilde=np.min(np.abs(uRtildestore))\n",
    "\n",
    "print(limR,limI,limRtilde)\n",
    "print(1/limR,1/limI,1/limRtilde)\n",
    "limR=1/100\n",
    "limRtilde=1/100\n",
    "limI=1/100\n",
    "\n",
    "\n",
    "def ellipsoid(A,QA):\n",
    "    center = [0,0,0]\n",
    "\n",
    "    U, s, rotation = np.linalg.svd(A)\n",
    "    rotation=QA\n",
    "    s=np.transpose(QA)@A@QA\n",
    "    s=np.diag(s)\n",
    "    # nb s are the singular values and s = |lambdda(A)| since A is square and normal\n",
    "    radii =1/np.sqrt(s/alpha)\n",
    "    #print(radii,s)\n",
    "    u = np.linspace(0.0, 2.0 * np.pi, 100)\n",
    "    v = np.linspace(0.0, np.pi, 100)\n",
    "    x = radii[0] * np.outer(np.cos(u), np.sin(v))\n",
    "    y = radii[1] * np.outer(np.sin(u), np.sin(v))\n",
    "    z = radii[2] * np.outer(np.ones_like(u), np.cos(v))\n",
    "    for i in range(len(x)):\n",
    "        for j in range(len(x)):\n",
    "            [x[i,j],y[i,j],z[i,j]] = np.dot([x[i,j],y[i,j],z[i,j]], rotation) + center\n",
    "\n",
    "    return x,y,z,radii\n",
    "\n",
    "def plotmytenRI(n):\n",
    "    Mlist = TensorArray[n,:]\n",
    "    Mten = np.array([[Mlist[0], Mlist[1], Mlist[2]],[Mlist[3], Mlist[4], Mlist[5]],[Mlist[6], Mlist[7], Mlist[8]]])\n",
    "    Rtilde = np.real(Mten)\n",
    "    uRtilde,VRtilde=np.linalg.eig(Rtilde)\n",
    "    uRtilde=np.sort(abs(uRtilde))\n",
    "    print(\"Frequency under consideration is\", Frequencies[n], \"rad/s\")\n",
    "    I = np.imag(Mten)\n",
    "    R = np.real(Mten)-N0\n",
    "    \n",
    "    # plot out R nb we look at the ellipsoid corresponding to |R|\n",
    "    \n",
    "    fig2=plt.figure(figsize=(10,5))\n",
    "    ax2 = fig2.add_subplot(131, projection='3d')\n",
    "\n",
    "    QRstore=RIResults[\"QRstore\"]\n",
    "    QR=np.zeros((3,3))\n",
    "    QR=QRstore[n,:,:]\n",
    "    x,y,z,radiiR = ellipsoid(-R,QR)\n",
    "\n",
    "    ax2.plot_wireframe(x, y, z,  rstride=4, cstride=4, color='r', alpha=0.2,label=\"-R\")\n",
    "\n",
    "    QIstore=RIResults[\"QIstore\"]\n",
    "    QI=np.zeros((3,3))\n",
    "    QI=QIstore[n,:,:]\n",
    "    #print(QR,QI,QR@np.transpose(QI))\n",
    "\n",
    "    x,y,z,radiiI = ellipsoid(I,QI)\n",
    "    kvec=max(max(radiiR),max(radiiI))*RIResults[\"RIkthetavec\"][n,:]/RIResults[\"MinAnglestoreRI\"][n]\n",
    "    print(kvec)\n",
    "    ax2.plot_wireframe(x, y, z,  rstride=4, cstride=4, color='b', alpha=0.2,label=\"I\")\n",
    "    ax2.plot([0,kvec[0]],[0,kvec[1]],[0,kvec[2]],lw=3)\n",
    "    ax2.axis(\"equal\")\n",
    "    ax2.set_xlabel('x')\n",
    "    ax2.set_ylabel('y')\n",
    "    ax2.set_zlabel('z')\n",
    "    \n",
    "    ax2.legend()\n",
    "    #ax2.axes.set_xlim3d(left=-1/limR, right=1/limR) \n",
    "    #ax2.axes.set_ylim3d(bottom=-1/limR, top=1/limR) \n",
    "    #ax2.axes.set_zlim3d(bottom=-1/limR, top=1/limR) \n",
    "    ax3 = fig2.add_subplot(132)\n",
    "    ax3.semilogx(Frequencies,uRstore[:,0],label=r'$\\lambda_1({\\cal R})$')\n",
    "    ax3.semilogx(Frequencies,uRstore[:,1],label=r'$\\lambda_2({\\cal R})$')\n",
    "    ax3.semilogx(Frequencies,uRstore[:,2],label=r'$\\lambda_3({\\cal R})$')\n",
    "    ax3.semilogx(Frequencies[n],uRstore[n,0],'x',label=r'$\\lambda_1({\\cal R})$')\n",
    "    ax3.semilogx(Frequencies[n],uRstore[n,1],'x',label=r'$\\lambda_2({\\cal R})$')\n",
    "    ax3.semilogx(Frequencies[n],uRstore[n,2],'x',label=r'$\\lambda_3({\\cal R})$')\n",
    "    \n",
    "    ax5 = fig2.add_subplot(133)\n",
    "    ax5.semilogx(Frequencies,uIstore[:,0],label=r'$\\lambda_1({\\cal I})$')\n",
    "    ax5.semilogx(Frequencies,uIstore[:,1],label=r'$\\lambda_2({\\cal I})$')\n",
    "    ax5.semilogx(Frequencies,uIstore[:,2],label=r'$\\lambda_3({\\cal I})$')\n",
    "    ax5.semilogx(Frequencies[n],uIstore[n,0],'x',label=r'$\\lambda_1({\\cal I})$')\n",
    "    ax5.semilogx(Frequencies[n],uIstore[n,1],'x',label=r'$\\lambda_2({\\cal I})$')\n",
    "    ax5.semilogx(Frequencies[n],uIstore[n,2],'x',label=r'$\\lambda_3({\\cal I})$')\n",
    "    ax5.legend()\n",
    "\n",
    "    ax3.legend()\n",
    "    fig2.tight_layout()\n",
    "    if angles==\"On\":\n",
    "        MinAnglestoreRI=RIResults[\"MinAnglestoreRI\"]\n",
    "        AnglestoreRIfmeasapprxconstsortedmin=np.fmin(RIResults[\"AnglestoreRIfmeasapprxconstsortedmaxdiff_min\"],\n",
    "                                                     RIResults[\"AnglestoreRIfmeasapprxconstsortedmindiff_min\"])\n",
    "        AnglestoreRIfmeasapprxconstsortedmax=np.fmax(RIResults[\"AnglestoreRIfmeasapprxconstsortedmaxdiff_max\"],RIResults[\"AnglestoreRIfmeasapprxconstsortedmindiff_max\"])\n",
    "\n",
    "\n",
    "        AnglestoreRIcommeasapprxconstsortedmin=np.fmin(RIResults[\"AnglestoreRIcommeasapprxconstsortedmaxdiff_min\"],RIResults[\"AnglestoreRIcommeasapprxconstsortedmindiff_min\"])\n",
    "        AnglestoreRIcommeasapprxconstsortedmax=np.fmax(RIResults[\"AnglestoreRIcommeasapprxconstsortedmaxdiff_min\"],RIResults[\"AnglestoreRIcommeasapprxconstsortedmindiff_min\"])\n",
    "\n",
    "        dFMinAnglestoreRI = RIResults[\"dFMinAnglestoreRI\"]\n",
    "        fig=plt.figure()\n",
    "        plt.semilogx(Frequencies,MinAnglestoreRI,label=r'$d_R({\\cal R},{\\cal I})$')\n",
    "        plt.semilogx(Frequencies,dFMinAnglestoreRI/np.sqrt(2),label=r'$d_F({\\cal R},{\\cal I})/\\sqrt{2}$')\n",
    "        plt.semilogx(Frequencies,AnglestoreRIfmeasapprxconstsortedmin,label=r'$\\theta(d_E({\\cal R},{\\cal I}))$ LB')\n",
    "\n",
    "        plt.semilogx(Frequencies,AnglestoreRIcommeasapprxconstsortedmin,label=r'$\\theta(d_C({\\cal R},{\\cal I}))$ LB')\n",
    "        plt.semilogx(Frequencies[n],MinAnglestoreRI[n],'x',label=r'$d_R({\\cal R},{\\cal I})$')\n",
    "\n",
    "        plt.xlabel(r'$\\omega$ [rad/s]')\n",
    "        plt.ylabel(r'$\\theta$ [rad]')\n",
    "        plt.legend()\n",
    "\n",
    "    \n",
    "\n",
    "    "
   ]
  },
  {
   "cell_type": "code",
   "execution_count": 8,
   "id": "7edd8359",
   "metadata": {},
   "outputs": [
    {
     "data": {
      "application/vnd.jupyter.widget-view+json": {
       "model_id": "28e28f2f25c7476b80b39e02e0692af0",
       "version_major": 2,
       "version_minor": 0
      },
      "text/plain": [
       "interactive(children=(IntSlider(value=10, description='n', max=99), Output()), _dom_classes=('widget-interact'…"
      ]
     },
     "metadata": {},
     "output_type": "display_data"
    }
   ],
   "source": [
    "\n",
    "interact( plotmytenRI, n=widgets.IntSlider(min=0, max=N-1, step=1, value=10));"
   ]
  },
  {
   "cell_type": "code",
   "execution_count": null,
   "id": "1ab09a7b",
   "metadata": {},
   "outputs": [],
   "source": []
  },
  {
   "cell_type": "code",
   "execution_count": null,
   "id": "e3827748",
   "metadata": {},
   "outputs": [],
   "source": []
  },
  {
   "cell_type": "code",
   "execution_count": 10,
   "id": "92db7d43",
   "metadata": {},
   "outputs": [],
   "source": [
    "#Frequencies = np.genfromtxt(directory+'Frequencies.csv', dtype=float, delimiter=', ')\n",
    "\n",
    "def plotmytenRtildeI(n):\n",
    "    Frequencies = np.genfromtxt(directory+'Frequencies.csv', dtype=float, delimiter=', ')\n",
    "\n",
    "    Mlist = TensorArray[n,:]\n",
    "    Mten = np.array([[Mlist[0], Mlist[1], Mlist[2]],[Mlist[3], Mlist[4], Mlist[5]],[Mlist[6], Mlist[7], Mlist[8]]])\n",
    "    Rtilde = np.real(Mten)\n",
    "    uRtilde,VRtilde=np.linalg.eig(Rtilde)\n",
    "    uRtilde=np.sort(abs(uRtilde))\n",
    "    print(\"Frequency under consideration is\", Frequencies[n], \"rad/s\")\n",
    "    I = np.imag(Mten)\n",
    "    R = np.real(Mten)-N0\n",
    "\n",
    "#   plot out Rtilde nb we look at the ellipsoid corresponding to Rtilde*Rtilde^T\n",
    "    fig=plt.figure(figsize=(10,5))\n",
    "    ax1 = fig.add_subplot(131, projection='3d')\n",
    "    x,y,z = ellipsoid(Rtilde)\n",
    "    \n",
    "    ax1.plot_wireframe(x, y, z,  rstride=4, cstride=4, color='r', alpha=0.2, label=r'$\\tilde{\\cal R}$')    \n",
    "    x,y,z = ellipsoid(I)\n",
    "    ax1.plot_wireframe(x, y, z,  rstride=4, cstride=4, color='b', alpha=0.2, label=r'${\\cal I}$')    \n",
    "    \n",
    "    ax1.legend()\n",
    "    ax1.axis(\"equal\")\n",
    "    ax2 = fig.add_subplot(132)\n",
    "    ax2.semilogx(Frequencies,uRtildestore[:,0],label=r'$\\lambda_1(\\tilde{\\cal R})$')\n",
    "    ax2.semilogx(Frequencies,uRtildestore[:,1],label=r'$\\lambda_2(\\tilde{\\cal R})$')\n",
    "    ax2.semilogx(Frequencies,uRtildestore[:,2],label=r'$\\lambda_3(\\tilde{\\cal R})$')\n",
    "    ax2.semilogx(Frequencies[n],uRtildestore[n,0],'x',label=r'$\\lambda_1(\\tilde{\\cal R})$')\n",
    "    ax2.semilogx(Frequencies[n],uRtildestore[n,1],'x',label=r'$\\lambda_2(\\tilde{\\cal R})$')\n",
    "    ax2.semilogx(Frequencies[n],uRtildestore[n,2],'x',label=r'$\\lambda_3(\\tilde{\\cal R})$')\n",
    "    \n",
    "    ax2.legend()\n",
    "    \n",
    "    ax5 = fig.add_subplot(133)\n",
    "    ax5.semilogx(Frequencies,uIstore[:,0],label=r'$\\lambda_1({\\cal I})$')\n",
    "    ax5.semilogx(Frequencies,uIstore[:,1],label=r'$\\lambda_2({\\cal I})$')\n",
    "    ax5.semilogx(Frequencies,uIstore[:,2],label=r'$\\lambda_3({\\cal I})$')\n",
    "    ax5.semilogx(Frequencies[n],uIstore[n,0],'x',label=r'$\\lambda_1({\\cal I})$')\n",
    "    ax5.semilogx(Frequencies[n],uIstore[n,1],'x',label=r'$\\lambda_2({\\cal I})$')\n",
    "    ax5.semilogx(Frequencies[n],uIstore[n,2],'x',label=r'$\\lambda_3({\\cal I})$')\n",
    "    ax5.legend()\n",
    "    \n",
    "    \n",
    "    #ax4.axes.set_xlim3d(left=-1/limI, right=1/limI) \n",
    "    #ax4.axes.set_ylim3d(bottom=-1/limI, top=1/limI) \n",
    "    #ax4.axes.set_zlim3d(bottom=-1/limI, top=1/limI) \n",
    "    ax5 = fig.add_subplot(133)\n",
    "    ax5.semilogx(Frequencies,uIstore[:,0],label=r'$\\lambda_1({\\cal I})$')\n",
    "    ax5.semilogx(Frequencies,uIstore[:,1],label=r'$\\lambda_2({\\cal I})$')\n",
    "    ax5.semilogx(Frequencies,uIstore[:,2],label=r'$\\lambda_3({\\cal I})$')\n",
    "    ax5.semilogx(Frequencies[n],uIstore[n,0],'x',label=r'$\\lambda_1({\\cal I})$')\n",
    "    ax5.semilogx(Frequencies[n],uIstore[n,1],'x',label=r'$\\lambda_2({\\cal I})$')\n",
    "    ax5.semilogx(Frequencies[n],uIstore[n,2],'x',label=r'$\\lambda_3({\\cal I})$')\n",
    "    ax5.legend()\n",
    "    \n",
    "    fig.tight_layout()\n",
    "    plt.show()\n",
    "    \n",
    "    if angles==\"On\":\n",
    "        Frequencies=RtildeIResults[\"Frequencies\"]\n",
    "        MinAnglestoreRtildeI=RtildeIResults[\"MinAnglestoreRtildeI\"]\n",
    "        dFMinAnglestoreRtildeI = RtildeIResults[\"dFMinAnglestoreRtildeI\"]\n",
    "        AnglestoreRtildeIfmeasapprxconstsortedmin=np.fmin(RtildeIResults[\"AnglestoreRtildeIfmeasapprxconstsortedmaxdiff_min\"],RtildeIResults[\"AnglestoreRtildeIfmeasapprxconstsortedmindiff_min\"])\n",
    "        AnglestoreRtildeIfmeasapprxconstsortedmax=np.fmax(RtildeIResults[\"AnglestoreRtildeIfmeasapprxconstsortedmaxdiff_max\"],RtildeIResults[\"AnglestoreRtildeIfmeasapprxconstsortedmindiff_max\"])\n",
    "\n",
    "        AnglestoreRtildeIcommeasapprxconstsortedmin=np.fmin(RtildeIResults[\"AnglestoreRtildeIcommeasapprxconstsortedmaxdiff_min\"],RtildeIResults[\"AnglestoreRtildeIcommeasapprxconstsortedmindiff_max\"])\n",
    "        AnglestoreRtildeIcommeasapprxconstsortedmax=np.fmax(RtildeIResults[\"AnglestoreRtildeIcommeasapprxconstsortedmaxdiff_max\"],RtildeIResults[\"AnglestoreRtildeIcommeasapprxconstsortedmindiff_min\"])\n",
    "\n",
    "        fig=plt.figure()\n",
    "        plt.semilogx(Frequencies,MinAnglestoreRtildeI,label=r'$d_R(\\tilde{\\cal R},{\\cal I})$')\n",
    "        plt.semilogx(Frequencies,dFMinAnglestoreRtildeI/np.sqrt(2),label=r'$d_F(\\tilde{\\cal R},{\\cal I})/\\sqrt{2}$')\n",
    "        plt.semilogx(Frequencies,AnglestoreRtildeIfmeasapprxconstsortedmin,'-x',label=r'$\\theta(d_E(\\tilde{\\cal R},{\\cal I}))$ LB')\n",
    "\n",
    "        plt.semilogx(Frequencies,AnglestoreRtildeIcommeasapprxconstsortedmin,'-x',label=r'$\\theta(d_C(\\tilde{\\cal R},{\\cal I}))$ LB ')\n",
    "        plt.semilogx(Frequencies[n],MinAnglestoreRtildeI[n],label=r'$d_R(\\tilde{\\cal R},{\\cal I})$')\n",
    "    \n",
    "\n",
    "        plt.xlabel(r'$\\omega$ [rad/s]')\n",
    "        plt.ylabel(r'$\\theta$ [rad]')\n",
    "        plt.legend()\n",
    "        \n"
   ]
  },
  {
   "cell_type": "code",
   "execution_count": null,
   "id": "38b1c6f0",
   "metadata": {},
   "outputs": [],
   "source": []
  },
  {
   "cell_type": "code",
   "execution_count": null,
   "id": "170a858f",
   "metadata": {},
   "outputs": [],
   "source": []
  },
  {
   "cell_type": "code",
   "execution_count": null,
   "id": "68dd08c0",
   "metadata": {},
   "outputs": [],
   "source": []
  },
  {
   "cell_type": "code",
   "execution_count": null,
   "id": "15922db4",
   "metadata": {},
   "outputs": [],
   "source": []
  },
  {
   "cell_type": "code",
   "execution_count": 11,
   "id": "02124463",
   "metadata": {},
   "outputs": [],
   "source": [
    "\n",
    "interact( plotmytenRtildeI, n=widgets.IntSlider(min=0, max=N-1, step=1, value=10));"
   ]
  },
  {
   "cell_type": "code",
   "execution_count": 4,
   "id": "d1435de9",
   "metadata": {},
   "outputs": [],
   "source": [
    "def plotmytenN0I(n):\n",
    "    Frequencies = np.genfromtxt(directory+'Frequencies.csv', dtype=float, delimiter=', ')\n",
    "\n",
    "    Mlist = TensorArray[n,:]\n",
    "    Mten = np.array([[Mlist[0], Mlist[1], Mlist[2]],[Mlist[3], Mlist[4], Mlist[5]],[Mlist[6], Mlist[7], Mlist[8]]])\n",
    "    Rtilde = np.real(Mten)\n",
    "    uRtilde,VRtilde=np.linalg.eig(Rtilde)\n",
    "    uRtilde=np.sort(abs(uRtilde))\n",
    "    print(\"Frequency under consideration is\", Frequencies[n], \"rad/s\")\n",
    "    I = np.imag(Mten)\n",
    "    R = np.real(Mten)-N0\n",
    "\n",
    "#   plot out Rtilde nb we look at the ellipsoid corresponding to Rtilde*Rtilde^T\n",
    "    fig=plt.figure(figsize=(10,5))\n",
    "    ax1 = fig.add_subplot(131, projection='3d')\n",
    "    x,y,z = ellipsoid(N0)\n",
    "    \n",
    "    ax1.plot_wireframe(x, y, z,  rstride=4, cstride=4, color='r', alpha=0.2, label=r'${\\cal N}^{(0)}$')    \n",
    "    x,y,z = ellipsoid(I)\n",
    "    ax1.plot_wireframe(x, y, z,  rstride=4, cstride=4, color='b', alpha=0.2, label=r'${\\cal I}$')    \n",
    "    \n",
    "    ax1.legend()\n",
    "    ax1.axis(\"equal\")\n",
    "    ax2 = fig.add_subplot(132)\n",
    "    ax2.semilogx(Frequencies,uN0store[:,0],label=r'$\\lambda_1({\\cal N}^{(0)})$')\n",
    "    ax2.semilogx(Frequencies,uN0store[:,1],label=r'$\\lambda_2({\\cal N}^{(0)})$')\n",
    "    ax2.semilogx(Frequencies,uN0store[:,2],label=r'$\\lambda_3({\\cal N}^{(0)})$')\n",
    "    ax2.semilogx(Frequencies[n],uN0store[n,0],'x',label=r'$\\lambda_1({\\cal N}^{(0)})$')\n",
    "    ax2.semilogx(Frequencies[n],uN0store[n,1],'x',label=r'$\\lambda_2({\\cal N}^{(0)})$')\n",
    "    ax2.semilogx(Frequencies[n],uN0store[n,2],'x',label=r'$\\lambda_3({\\cal N}^{(0)})$')\n",
    "    \n",
    "    ax2.legend()\n",
    "    \n",
    "    ax5 = fig.add_subplot(133)\n",
    "    ax5.semilogx(Frequencies,uIstore[:,0],label=r'$\\lambda_1({\\cal I})$')\n",
    "    ax5.semilogx(Frequencies,uIstore[:,1],label=r'$\\lambda_2({\\cal I})$')\n",
    "    ax5.semilogx(Frequencies,uIstore[:,2],label=r'$\\lambda_3({\\cal I})$')\n",
    "    ax5.semilogx(Frequencies[n],uIstore[n,0],'x',label=r'$\\lambda_1({\\cal I})$')\n",
    "    ax5.semilogx(Frequencies[n],uIstore[n,1],'x',label=r'$\\lambda_2({\\cal I})$')\n",
    "    ax5.semilogx(Frequencies[n],uIstore[n,2],'x',label=r'$\\lambda_3({\\cal I})$')\n",
    "    ax5.legend()\n",
    "    \n",
    "    \n",
    "    #ax4.axes.set_xlim3d(left=-1/limI, right=1/limI) \n",
    "    #ax4.axes.set_ylim3d(bottom=-1/limI, top=1/limI) \n",
    "    #ax4.axes.set_zlim3d(bottom=-1/limI, top=1/limI) \n",
    "    ax5 = fig.add_subplot(133)\n",
    "    ax5.semilogx(Frequencies,uIstore[:,0],label=r'$\\lambda_1({\\cal I})$')\n",
    "    ax5.semilogx(Frequencies,uIstore[:,1],label=r'$\\lambda_2({\\cal I})$')\n",
    "    ax5.semilogx(Frequencies,uIstore[:,2],label=r'$\\lambda_3({\\cal I})$')\n",
    "    ax5.semilogx(Frequencies[n],uIstore[n,0],'x',label=r'$\\lambda_1({\\cal I})$')\n",
    "    ax5.semilogx(Frequencies[n],uIstore[n,1],'x',label=r'$\\lambda_2({\\cal I})$')\n",
    "    ax5.semilogx(Frequencies[n],uIstore[n,2],'x',label=r'$\\lambda_3({\\cal I})$')\n",
    "    ax5.legend()\n",
    "    \n",
    "    fig.tight_layout()\n",
    "    plt.show()\n",
    "    \n",
    "    if angles==\"On\":\n",
    "        \n",
    "        Frequencies=N0IResults[\"Frequencies\"]\n",
    "        MinAnglestoreN0I=N0IResults[\"MinAnglestoreN0I\"]\n",
    "        AnglestoreN0Ifmeasapprxconstsortedmin=np.fmin(N0IResults[\"AnglestoreN0Ifmeasapprxconstsortedmaxdiff_min\"],N0IResults[\"AnglestoreN0Ifmeasapprxconstsortedmindiff_min\"])\n",
    "        AnglestoreN0Ifmeasapprxconstsortedmax=np.fmax(N0IResults[\"AnglestoreN0Ifmeasapprxconstsortedmaxdiff_max\"],N0IResults[\"AnglestoreN0Ifmeasapprxconstsortedmindiff_max\"])\n",
    "\n",
    "        AnglestoreN0Icommeasapprxconstsortedmin=np.fmin(N0IResults[\"AnglestoreN0Icommeasapprxconstsortedmaxdiff_min\"],N0IResults[\"AnglestoreN0Icommeasapprxconstsortedmindiff_min\"])\n",
    "        AnglestoreN0Icommeasapprxconstsortedmax=np.fmax(N0IResults[\"AnglestoreN0Icommeasapprxconstsortedmaxdiff_max\"],N0IResults[\"AnglestoreN0Icommeasapprxconstsortedmindiff_max\"])\n",
    "\n",
    "\n",
    "        dFMinAnglestoreN0I = N0IResults[\"dFMinAnglestoreN0I\"]\n",
    "        fig=plt.figure()\n",
    "        plt.semilogx(Frequencies,MinAnglestoreN0I,label=r'$d_R({\\cal N}^{(0)},{\\cal I})$')\n",
    "        plt.semilogx(Frequencies,dFMinAnglestoreN0I/np.sqrt(2),label=r'$d_F({\\cal N}^{(0)},{\\cal I})/\\sqrt{2}$')\n",
    "        plt.semilogx(Frequencies,AnglestoreN0Ifmeasapprxconstsortedmin,'x-',label=r'$\\theta(d_E({\\cal N}^{(0)},{\\cal I}))$ LB')\n",
    "\n",
    "        plt.semilogx(Frequencies,AnglestoreN0Icommeasapprxconstsortedmin,'x-',label=r'$\\theta(d_C({\\cal N}^{(0)},{\\cal I}))$ LB ')\n",
    "\n",
    "\n",
    "        plt.xlabel(r'$\\omega$ [rad/s]')\n",
    "        plt.ylabel(r'$\\theta$ [rad]')\n",
    "        plt.legend()\n",
    "        "
   ]
  },
  {
   "cell_type": "code",
   "execution_count": 5,
   "id": "f0218325",
   "metadata": {},
   "outputs": [
    {
     "data": {
      "application/vnd.jupyter.widget-view+json": {
       "model_id": "7f3a2ddbe0614c4c8507fca7eae19c6a",
       "version_major": 2,
       "version_minor": 0
      },
      "text/plain": [
       "interactive(children=(IntSlider(value=10, description='n', max=99), Output()), _dom_classes=('widget-interact'…"
      ]
     },
     "metadata": {},
     "output_type": "display_data"
    }
   ],
   "source": [
    "interact( plotmytenN0I, n=widgets.IntSlider(min=0, max=N-1, step=1, value=10));"
   ]
  },
  {
   "cell_type": "code",
   "execution_count": null,
   "id": "a5043b45",
   "metadata": {},
   "outputs": [],
   "source": []
  }
 ],
 "metadata": {
  "kernelspec": {
   "display_name": "Python 3 (ipykernel)",
   "language": "python",
   "name": "python3"
  },
  "language_info": {
   "codemirror_mode": {
    "name": "ipython",
    "version": 3
   },
   "file_extension": ".py",
   "mimetype": "text/x-python",
   "name": "python",
   "nbconvert_exporter": "python",
   "pygments_lexer": "ipython3",
   "version": "3.10.13"
  },
  "varInspector": {
   "cols": {
    "lenName": 16,
    "lenType": 16,
    "lenVar": 40
   },
   "kernels_config": {
    "python": {
     "delete_cmd_postfix": "",
     "delete_cmd_prefix": "del ",
     "library": "var_list.py",
     "varRefreshCmd": "print(var_dic_list())"
    },
    "r": {
     "delete_cmd_postfix": ") ",
     "delete_cmd_prefix": "rm(",
     "library": "var_list.r",
     "varRefreshCmd": "cat(var_dic_list()) "
    }
   },
   "types_to_exclude": [
    "module",
    "function",
    "builtin_function_or_method",
    "instance",
    "_Feature"
   ],
   "window_display": false
  }
 },
 "nbformat": 4,
 "nbformat_minor": 5
}
