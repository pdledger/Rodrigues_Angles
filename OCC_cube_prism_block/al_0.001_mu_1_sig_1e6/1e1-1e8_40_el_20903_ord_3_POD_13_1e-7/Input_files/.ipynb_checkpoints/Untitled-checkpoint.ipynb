{
 "cells": [
  {
   "cell_type": "code",
   "execution_count": 5,
   "id": "8f9f91ee-aeab-4071-88d3-0bae34680f6f",
   "metadata": {},
   "outputs": [],
   "source": [
    "from ngsolve import *\n",
    "from ngsolve.webgui import Draw as drawmesh\n",
    "#import netgen.meshing as ngmeshing\n"
   ]
  },
  {
   "cell_type": "code",
   "execution_count": 7,
   "id": "ee5882d3-595a-464a-bce1-15ee191e9dd4",
   "metadata": {},
   "outputs": [
    {
     "data": {
      "application/vnd.jupyter.widget-view+json": {
       "model_id": "0c033227ec6d4c7788c33fb84ccf7caa",
       "version_major": 2,
       "version_minor": 0
      },
      "text/plain": [
       "WebGuiWidget(layout=Layout(height='50vh', width='100%'), value={'gui_settings': {}, 'ngsolve_version': '6.2.23…"
      ]
     },
     "metadata": {},
     "output_type": "display_data"
    },
    {
     "data": {
      "text/plain": [
       "BaseWebGuiScene"
      ]
     },
     "execution_count": 7,
     "metadata": {},
     "output_type": "execute_result"
    }
   ],
   "source": [
    "# ngmesh = ngmeshing.Mesh(dim=3)\n",
    "mesh = Mesh('/home/james/Desktop/MPT-Calculator/Results_08Nov/CSG_TwoTetra/al_0.001_mu_4,1_sig_1e7,1e7/1e1-1e8_40_el_21672_ord_3_POD_13_1e-7/Input_files/CSG_TwoTetra.vol')\n",
    "drawmesh(mesh)"
   ]
  },
  {
   "cell_type": "code",
   "execution_count": null,
   "id": "c962eede-5749-4e69-b31d-b7df442b6d4b",
   "metadata": {},
   "outputs": [],
   "source": []
  },
  {
   "cell_type": "code",
   "execution_count": null,
   "id": "95b01787-9500-4be3-beb9-5f9565772cbb",
   "metadata": {},
   "outputs": [],
   "source": []
  }
 ],
 "metadata": {
  "kernelspec": {
   "display_name": "Python 3 (ipykernel)",
   "language": "python",
   "name": "python3"
  },
  "language_info": {
   "codemirror_mode": {
    "name": "ipython",
    "version": 3
   },
   "file_extension": ".py",
   "mimetype": "text/x-python",
   "name": "python",
   "nbconvert_exporter": "python",
   "pygments_lexer": "ipython3",
   "version": "3.10.12"
  }
 },
 "nbformat": 4,
 "nbformat_minor": 5
}
