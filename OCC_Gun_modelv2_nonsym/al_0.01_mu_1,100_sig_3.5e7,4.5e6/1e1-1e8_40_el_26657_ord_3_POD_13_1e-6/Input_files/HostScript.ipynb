{
 "cells": [
  {
   "cell_type": "code",
   "execution_count": 1,
   "id": "0aad5e36",
   "metadata": {},
   "outputs": [],
   "source": [
    "from time import time\n",
    "import numpy as np\n",
    "from matplotlib import pyplot as plt\n",
    "import os\n",
    "# Please edit this line to provide the to the root directory of your copy of MPT-Calculator\n",
    "#Your_Path = r'/home/paul/Coding/MPT-Calculator-Feb2024/MPT-Calculator'\n",
    "#Your_Path = r\"/home/paul/Coding/MPT-Calculator-Feb2024RedMemory/MPT-Calculator\"\n",
    "#Your_Path=r\"/home/paul/Coding/TestingFeb29/MPT-Calculator\"\n",
    "Your_Path=r\"/home/paul/Coding/MPT-Calculator-March2024/MPT-Calculator\"\n",
    "os.chdir(Your_Path)\n",
    "os.getcwd()\n",
    "\n",
    "\n",
    "from main import main\n"
   ]
  },
  {
   "cell_type": "code",
   "execution_count": 2,
   "id": "02073691",
   "metadata": {
    "scrolled": false
   },
   "outputs": [
    {
     "name": "stdout",
     "output_type": "stream",
     "text": [
      "Solving for order = 6\n"
     ]
    },
    {
     "data": {
      "application/vnd.jupyter.widget-view+json": {
       "model_id": "d6a8146bac48497aa6dd267344dc4c0a",
       "version_major": 2,
       "version_minor": 0
      },
      "text/plain": [
       "WebGuiWidget(layout=Layout(height='50vh', width='100%'), value={'ngsolve_version': 'Netgen x.x', 'mesh_dim': 3…"
      ]
     },
     "metadata": {},
     "output_type": "display_data"
    },
    {
     "name": "stdout",
     "output_type": "stream",
     "text": [
      "10.0 0.005947082898819447\n",
      "Updated alpha from OCC file. Alpha=0.01\n",
      "OCC_Gun_model_solid.geo\n",
      "1 air Steel\n",
      "[0, 1, 2] 3 ['air', 'Alu', 'Steel']\n",
      "Mesh Contains Prisms? True\n",
      "N Prisms: 1847, N Tets: 16078\n",
      "1 air Steel\n",
      "[0, 1, 2] 3 ['air', 'Alu', 'Steel']\n"
     ]
    },
    {
     "name": "stderr",
     "output_type": "stream",
     "text": [
      "/home/paul/Coding/MPT-Calculator-March2024/MPT-Calculator/main.py:279: UserWarning: It looks like the main function was invoked from a jupyter notebook. \n",
      "Currently saving a .ipynb file is done by copying the most recent file in the .ipynb_checkpoints folder. \n",
      "Unless you saved the file before running the code, this may not be the correct file.\n",
      "  warn('It looks like the main function was invoked from a jupyter notebook. \\nCurrently saving a .ipynb file is done by copying the most recent file in the .ipynb_checkpoints folder. \\nUnless you saved the file before running the code, this may not be the correct file.', stacklevel=1)\n"
     ]
    },
    {
     "name": "stdout",
     "output_type": "stream",
     "text": [
      "Running as parallel POD\n",
      " mesh contains 17925 elements\n",
      "Running Bilinear Forms Check\n",
      "Mesh curve order set to:  5\n",
      "K: Iteration 1: bonus_intord = 2\n",
      "K: Iteration 2: bonus_intord = 4\n",
      "K: Iteration 3: bonus_intord = 6\n",
      "K: Iteration 4: bonus_intord = 8\n",
      "K: Iteration 5: bonus_intord = 10\n",
      "K: Iteration 6: bonus_intord = 12\n",
      "catch in AssembleBilinearform 2: Local Heap overflow\n",
      "Current heapsize is 99999998\n",
      "\n"
     ]
    },
    {
     "ename": "NgException",
     "evalue": "Local Heap overflow\nCurrent heapsize is 99999998\nin Assemble BilinearForm 'biform_from_py'\n",
     "output_type": "error",
     "traceback": [
      "\u001b[0;31m---------------------------------------------------------------------------\u001b[0m",
      "\u001b[0;31mNgException\u001b[0m                               Traceback (most recent call last)",
      "Cell \u001b[0;32mIn [2], line 9\u001b[0m\n\u001b[1;32m      7\u001b[0m \u001b[38;5;28;01mfor\u001b[39;00m count \u001b[38;5;129;01min\u001b[39;00m \u001b[38;5;28mrange\u001b[39m(\u001b[38;5;241m5\u001b[39m):\n\u001b[1;32m      8\u001b[0m     \u001b[38;5;28mprint\u001b[39m(\u001b[38;5;124m'\u001b[39m\u001b[38;5;124mSolving for order =\u001b[39m\u001b[38;5;124m'\u001b[39m,P[count])\n\u001b[0;32m----> 9\u001b[0m     Return_Dict \u001b[38;5;241m=\u001b[39m \u001b[43mmain\u001b[49m\u001b[43m(\u001b[49m\u001b[43mgeometry\u001b[49m\u001b[38;5;241;43m=\u001b[39;49m\u001b[38;5;124;43m'\u001b[39;49m\u001b[38;5;124;43mOCC_Gun_model_solid.py\u001b[39;49m\u001b[38;5;124;43m'\u001b[39;49m\u001b[43m,\u001b[49m\u001b[43m \u001b[49m\u001b[43muse_OCC\u001b[49m\u001b[38;5;241;43m=\u001b[39;49m\u001b[38;5;28;43;01mTrue\u001b[39;49;00m\u001b[43m,\u001b[49m\u001b[43m \u001b[49m\u001b[43muse_POD\u001b[49m\u001b[38;5;241;43m=\u001b[39;49m\u001b[38;5;28;43;01mTrue\u001b[39;49;00m\u001b[43m,\u001b[49m\u001b[43morder\u001b[49m\u001b[38;5;241;43m=\u001b[39;49m\u001b[43mP\u001b[49m\u001b[43m[\u001b[49m\u001b[43mcount\u001b[49m\u001b[43m]\u001b[49m\u001b[43m,\u001b[49m\u001b[43mcpus\u001b[49m\u001b[38;5;241;43m=\u001b[39;49m\u001b[43mCPU\u001b[49m\u001b[43m[\u001b[49m\u001b[43mcount\u001b[49m\u001b[43m]\u001b[49m\u001b[43m)\u001b[49m;\n\u001b[1;32m     10\u001b[0m     comparison_eig_p[:,count] \u001b[38;5;241m=\u001b[39m Return_Dict[\u001b[38;5;124m'\u001b[39m\u001b[38;5;124mEigenValues\u001b[39m\u001b[38;5;124m'\u001b[39m][:,\u001b[38;5;241m0\u001b[39m]\n\u001b[1;32m     11\u001b[0m     comparison_ndofs_p[count] \u001b[38;5;241m=\u001b[39m Return_Dict[\u001b[38;5;124m'\u001b[39m\u001b[38;5;124mNDOF\u001b[39m\u001b[38;5;124m'\u001b[39m][\u001b[38;5;241m1\u001b[39m]\n",
      "File \u001b[0;32m~/Coding/MPT-Calculator-March2024/MPT-Calculator/main.py:336\u001b[0m, in \u001b[0;36mmain\u001b[0;34m(h, order, curve_degree, start_stop, alpha, geometry, frequency_array, use_OCC, use_POD, use_parallel, use_iterative_POD, cpus, N_POD_points)\u001b[0m\n\u001b[1;32m    333\u001b[0m                 os\u001b[38;5;241m.\u001b[39mreplace(\u001b[38;5;124m'\u001b[39m\u001b[38;5;124mResults/\u001b[39m\u001b[38;5;124m'\u001b[39m \u001b[38;5;241m+\u001b[39m sweepname_temp \u001b[38;5;241m+\u001b[39m \u001b[38;5;124mf\u001b[39m\u001b[38;5;124m'\u001b[39m\u001b[38;5;124m/Graphs/\u001b[39m\u001b[38;5;132;01m{\u001b[39;00mitem\u001b[38;5;132;01m}\u001b[39;00m\u001b[38;5;124m_iter\u001b[39m\u001b[38;5;132;01m{\u001b[39;00miterations\u001b[38;5;132;01m}\u001b[39;00m\u001b[38;5;124m.pdf\u001b[39m\u001b[38;5;124m'\u001b[39m, \u001b[38;5;124m'\u001b[39m\u001b[38;5;124mResults/\u001b[39m\u001b[38;5;124m'\u001b[39m \u001b[38;5;241m+\u001b[39m sweepname \u001b[38;5;241m+\u001b[39m \u001b[38;5;124mf\u001b[39m\u001b[38;5;124m'\u001b[39m\u001b[38;5;124m/Graphs/\u001b[39m\u001b[38;5;132;01m{\u001b[39;00mitem\u001b[38;5;132;01m}\u001b[39;00m\u001b[38;5;124m_iter\u001b[39m\u001b[38;5;132;01m{\u001b[39;00miterations\u001b[38;5;132;01m}\u001b[39;00m\u001b[38;5;124m.pdf\u001b[39m\u001b[38;5;124m'\u001b[39m)\n\u001b[1;32m    335\u001b[0m     \u001b[38;5;28;01melse\u001b[39;00m:\n\u001b[0;32m--> 336\u001b[0m         TensorArray, EigenValues, N0, PODTensors, PODEigenValues, elements, ndofs \u001b[38;5;241m=\u001b[39m \u001b[43mPODSweepMulti\u001b[49m\u001b[43m(\u001b[49m\u001b[43mGeometry\u001b[49m\u001b[43m,\u001b[49m\u001b[43mOrder\u001b[49m\u001b[43m,\u001b[49m\u001b[43malpha\u001b[49m\u001b[43m,\u001b[49m\u001b[43minorout\u001b[49m\u001b[43m,\u001b[49m\u001b[43mmur\u001b[49m\u001b[43m,\u001b[49m\u001b[43msig\u001b[49m\u001b[43m,\u001b[49m\u001b[43mArray\u001b[49m\u001b[43m,\u001b[49m\u001b[43mPODArray\u001b[49m\u001b[43m,\u001b[49m\u001b[43mPODTol\u001b[49m\u001b[43m,\u001b[49m\u001b[43mPlotPod\u001b[49m\u001b[43m,\u001b[49m\u001b[43mCPUs\u001b[49m\u001b[43m,\u001b[49m\n\u001b[1;32m    337\u001b[0m \u001b[43m                                                                                                  \u001b[49m\u001b[43msweepname\u001b[49m\u001b[43m,\u001b[49m\u001b[43mSavePOD\u001b[49m\u001b[43m,\u001b[49m\u001b[43mPODErrorBars\u001b[49m\u001b[43m,\u001b[49m\u001b[43mBigProblem\u001b[49m\u001b[43m,\u001b[49m\u001b[43m \u001b[49m\u001b[43mIntegration_Order\u001b[49m\u001b[43m,\u001b[49m\u001b[43m \u001b[49m\u001b[43mAdditional_Int_Order\u001b[49m\u001b[43m,\u001b[49m\n\u001b[1;32m    338\u001b[0m \u001b[43m                                                                                                  \u001b[49m\u001b[43mOrder_L2\u001b[49m\u001b[43m,\u001b[49m\u001b[43m \u001b[49m\u001b[43mdrop_tol\u001b[49m\u001b[43m,\u001b[49m\u001b[43m \u001b[49m\u001b[43mcurve\u001b[49m\u001b[38;5;241;43m=\u001b[39;49m\u001b[43mcurve_degree\u001b[49m\u001b[43m,\u001b[49m\u001b[43m \u001b[49m\u001b[43mrecoverymode\u001b[49m\u001b[38;5;241;43m=\u001b[39;49m\u001b[43mOldPOD\u001b[49m\u001b[43m,\u001b[49m\u001b[43m \u001b[49m\u001b[43mNumSolverThreads\u001b[49m\u001b[38;5;241;43m=\u001b[39;49m\u001b[43mNumSolverThreads\u001b[49m\u001b[43m,\u001b[49m\n\u001b[1;32m    339\u001b[0m \u001b[43m                                                                                                  \u001b[49m\u001b[43msave_U\u001b[49m\u001b[38;5;241;43m=\u001b[39;49m\u001b[43mSave_U\u001b[49m\u001b[43m)\u001b[49m\n\u001b[1;32m    340\u001b[0m \u001b[38;5;28;01melse\u001b[39;00m:\n\u001b[1;32m    341\u001b[0m     \u001b[38;5;28;01mif\u001b[39;00m PODErrorBars\u001b[38;5;241m==\u001b[39m\u001b[38;5;28;01mTrue\u001b[39;00m \u001b[38;5;129;01mand\u001b[39;00m use_iterative_POD \u001b[38;5;129;01mis\u001b[39;00m \u001b[38;5;28;01mFalse\u001b[39;00m:\n",
      "File \u001b[0;32m~/Coding/MPT-Calculator-March2024/MPT-Calculator/Functions/POD/PODSweepMulti.py:73\u001b[0m, in \u001b[0;36mPODSweepMulti\u001b[0;34m(Object, Order, alpha, inorout, mur, sig, Array, PODArray, PODTol, PlotPod, CPUs, sweepname, SavePOD, PODErrorBars, BigProblem, Integration_Order, Additional_Int_Order, Order_L2, drop_tol, curve, recoverymode, NumSolverThreads, save_U)\u001b[0m\n\u001b[1;32m     69\u001b[0m timing_dictionary \u001b[38;5;241m=\u001b[39m {}\n\u001b[1;32m     71\u001b[0m timing_dictionary[\u001b[38;5;124m'\u001b[39m\u001b[38;5;124mstart_time\u001b[39m\u001b[38;5;124m'\u001b[39m] \u001b[38;5;241m=\u001b[39m time\u001b[38;5;241m.\u001b[39mtime()\n\u001b[0;32m---> 73\u001b[0m EigenValues, Mu0, N0, NumberofFrequencies, NumberofSnapshots, TensorArray,  inout, mesh, mu_inv, numelements, sigma, bilinear_bonus_int_order \u001b[38;5;241m=\u001b[39m \u001b[43mMPT_Preallocation\u001b[49m\u001b[43m(\u001b[49m\n\u001b[1;32m     74\u001b[0m \u001b[43m    \u001b[49m\u001b[43mArray\u001b[49m\u001b[43m,\u001b[49m\u001b[43m \u001b[49m\u001b[43mObject\u001b[49m\u001b[43m,\u001b[49m\u001b[43m \u001b[49m\u001b[43mPODArray\u001b[49m\u001b[43m,\u001b[49m\u001b[43m \u001b[49m\u001b[43mcurve\u001b[49m\u001b[43m,\u001b[49m\u001b[43m \u001b[49m\u001b[43minorout\u001b[49m\u001b[43m,\u001b[49m\u001b[43m \u001b[49m\u001b[43mmur\u001b[49m\u001b[43m,\u001b[49m\u001b[43m \u001b[49m\u001b[43msig\u001b[49m\u001b[43m,\u001b[49m\u001b[43m \u001b[49m\u001b[43mOrder\u001b[49m\u001b[43m,\u001b[49m\u001b[43m \u001b[49m\u001b[43mOrder_L2\u001b[49m\u001b[43m,\u001b[49m\u001b[43m \u001b[49m\u001b[43msweepname\u001b[49m\u001b[43m,\u001b[49m\u001b[43m \u001b[49m\u001b[43mNumSolverThreads\u001b[49m\u001b[43m,\u001b[49m\u001b[43m \u001b[49m\u001b[43mdrop_tol\u001b[49m\u001b[43m)\u001b[49m\n\u001b[1;32m     75\u001b[0m \u001b[38;5;66;03m# Set up the Solver Parameters\u001b[39;00m\n\u001b[1;32m     76\u001b[0m Solver, epsi, Maxsteps, Tolerance, _, use_integral \u001b[38;5;241m=\u001b[39m SolverParameters()\n",
      "File \u001b[0;32m~/Coding/MPT-Calculator-March2024/MPT-Calculator/Functions/Core_MPT/MPT_Preallocation.py:92\u001b[0m, in \u001b[0;36mMPT_Preallocation\u001b[0;34m(Array, Object, PODArray, curve, inorout, mur, sig, Order, Order_L2, sweepname, NumSolverThreads, drop_tol)\u001b[0m\n\u001b[1;32m     90\u001b[0m run, bilinear_tol, max_iter \u001b[38;5;241m=\u001b[39m PrerunCheckSettings()\n\u001b[1;32m     91\u001b[0m \u001b[38;5;28;01mif\u001b[39;00m run \u001b[38;5;129;01mis\u001b[39;00m \u001b[38;5;28;01mTrue\u001b[39;00m:\n\u001b[0;32m---> 92\u001b[0m     bilinear_bonus_int_order \u001b[38;5;241m=\u001b[39m \u001b[43mBilinearForms_Check\u001b[49m\u001b[43m(\u001b[49m\u001b[43mmesh\u001b[49m\u001b[43m,\u001b[49m\u001b[43m \u001b[49m\u001b[43mOrder\u001b[49m\u001b[43m,\u001b[49m\u001b[43m \u001b[49m\u001b[43mmu_inv\u001b[49m\u001b[43m,\u001b[49m\u001b[43m \u001b[49m\u001b[43msigma\u001b[49m\u001b[43m,\u001b[49m\u001b[43m \u001b[49m\u001b[43minout\u001b[49m\u001b[43m,\u001b[49m\u001b[43m \u001b[49m\u001b[43mbilinear_tol\u001b[49m\u001b[43m,\u001b[49m\u001b[43m \u001b[49m\u001b[43mmax_iter\u001b[49m\u001b[43m,\u001b[49m\u001b[43m \u001b[49m\u001b[43mcurve\u001b[49m\u001b[43m,\u001b[49m\u001b[43m \u001b[49m\u001b[38;5;241;43m2\u001b[39;49m\u001b[38;5;241;43m+\u001b[39;49m\u001b[43mL2Order\u001b[49m\u001b[43m,\u001b[49m\u001b[43m \u001b[49m\u001b[43msweepname\u001b[49m\u001b[43m,\u001b[49m\u001b[43m \u001b[49m\u001b[43mNumSolverThreads\u001b[49m\u001b[43m,\u001b[49m\u001b[43m \u001b[49m\u001b[43mdrop_tol\u001b[49m\u001b[43m \u001b[49m\u001b[43m)\u001b[49m\n\u001b[1;32m     93\u001b[0m     \u001b[38;5;66;03m# check_mesh_volumes(mesh, inout, True, Object, max([2*Order+2, 3*(curve-1)]), curve)\u001b[39;00m\n\u001b[1;32m     94\u001b[0m \n\u001b[1;32m     95\u001b[0m \u001b[38;5;28;01melse\u001b[39;00m:\n\u001b[1;32m     96\u001b[0m     \u001b[38;5;66;03m# setting default bilinear int order.\u001b[39;00m\n\u001b[1;32m     97\u001b[0m     bilinear_bonus_int_order \u001b[38;5;241m=\u001b[39m \u001b[38;5;241m3\u001b[39m\u001b[38;5;241m*\u001b[39m(curve \u001b[38;5;241m-\u001b[39m \u001b[38;5;241m1\u001b[39m) \u001b[38;5;241m-\u001b[39m \u001b[38;5;241m2\u001b[39m\u001b[38;5;241m*\u001b[39m(Order \u001b[38;5;241m+\u001b[39m \u001b[38;5;241m1\u001b[39m)\n",
      "File \u001b[0;32m~/Coding/MPT-Calculator-March2024/MPT-Calculator/Functions/PrerunChecks/BilinearForms_Check.py:83\u001b[0m, in \u001b[0;36mBilinearForms_Check\u001b[0;34m(mesh, order, mu_inv, sigma, inout, bilinearform_tol, max_iter, curve_order, starting_order, sweepname, NumSolverThreads, drop_tol)\u001b[0m\n\u001b[1;32m     81\u001b[0m \u001b[38;5;66;03m#K += SymbolicBFI(epsi * u * v, bonus_intorder=bonus_intord)\u001b[39;00m\n\u001b[1;32m     82\u001b[0m \u001b[38;5;28;01mwith\u001b[39;00m TaskManager():\n\u001b[0;32m---> 83\u001b[0m     \u001b[43mK\u001b[49m\u001b[38;5;241;43m.\u001b[39;49m\u001b[43mAssemble\u001b[49m\u001b[43m(\u001b[49m\u001b[43m)\u001b[49m\n\u001b[1;32m     84\u001b[0m \u001b[38;5;66;03m#print(K.mat.nze)\u001b[39;00m\n\u001b[1;32m     86\u001b[0m \u001b[38;5;28;01mif\u001b[39;00m counter \u001b[38;5;241m==\u001b[39m \u001b[38;5;241m1\u001b[39m:  \u001b[38;5;66;03m# first iteration\u001b[39;00m\n",
      "\u001b[0;31mNgException\u001b[0m: Local Heap overflow\nCurrent heapsize is 99999998\nin Assemble BilinearForm 'biform_from_py'\n"
     ]
    }
   ],
   "source": [
    "from main import main\n",
    "comparison_eig_p = np.zeros((40,6), dtype=complex)\n",
    "comparison_ndofs_p = np.zeros(6)\n",
    "start_time = time()\n",
    "P=[6]\n",
    "CPU=[1]\n",
    "for count in range(5):\n",
    "    print('Solving for order =',P[count])\n",
    "    Return_Dict = main(geometry='OCC_Gun_model_solid.py', use_OCC=True, use_POD=True,order=P[count],cpus=CPU[count]);\n",
    "    comparison_eig_p[:,count] = Return_Dict['EigenValues'][:,0]\n",
    "    comparison_ndofs_p[count] = Return_Dict['NDOF'][1]\n"
   ]
  },
  {
   "cell_type": "code",
   "execution_count": null,
   "id": "0578ea20",
   "metadata": {},
   "outputs": [],
   "source": []
  }
 ],
 "metadata": {
  "kernelspec": {
   "display_name": "Python 3 (ipykernel)",
   "language": "python",
   "name": "python3"
  },
  "language_info": {
   "codemirror_mode": {
    "name": "ipython",
    "version": 3
   },
   "file_extension": ".py",
   "mimetype": "text/x-python",
   "name": "python",
   "nbconvert_exporter": "python",
   "pygments_lexer": "ipython3",
   "version": "3.10.4"
  }
 },
 "nbformat": 4,
 "nbformat_minor": 5
}
