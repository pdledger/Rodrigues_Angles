{
 "cells": [
  {
   "cell_type": "code",
   "execution_count": 2,
   "id": "7056b3a9",
   "metadata": {},
   "outputs": [
    {
     "data": {
      "text/plain": [
       "-0.0034648961499003012"
      ]
     },
     "execution_count": 2,
     "metadata": {},
     "output_type": "execute_result"
    }
   ],
   "source": [
    "(0.00051482-0.00051661)/0.00051661"
   ]
  },
  {
   "cell_type": "code",
   "execution_count": 3,
   "id": "69ee6831",
   "metadata": {},
   "outputs": [
    {
     "data": {
      "text/plain": [
       "3.3116700000000004e-07"
      ]
     },
     "execution_count": 3,
     "metadata": {},
     "output_type": "execute_result"
    }
   ],
   "source": [
    "0.00331167*1e-4\n"
   ]
  },
  {
   "cell_type": "code",
   "execution_count": 4,
   "id": "9becef55",
   "metadata": {},
   "outputs": [],
   "source": [
    "import numpy as np\n"
   ]
  },
  {
   "cell_type": "code",
   "execution_count": 8,
   "id": "efec24f3",
   "metadata": {},
   "outputs": [
    {
     "data": {
      "text/plain": [
       "array([1.])"
      ]
     },
     "execution_count": 8,
     "metadata": {},
     "output_type": "execute_result"
    }
   ],
   "source": []
  },
  {
   "cell_type": "code",
   "execution_count": null,
   "id": "ce7b41fe",
   "metadata": {},
   "outputs": [],
   "source": []
  }
 ],
 "metadata": {
  "kernelspec": {
   "display_name": "Python 3 (ipykernel)",
   "language": "python",
   "name": "python3"
  },
  "language_info": {
   "codemirror_mode": {
    "name": "ipython",
    "version": 3
   },
   "file_extension": ".py",
   "mimetype": "text/x-python",
   "name": "python",
   "nbconvert_exporter": "python",
   "pygments_lexer": "ipython3",
   "version": "3.10.9"
  }
 },
 "nbformat": 4,
 "nbformat_minor": 5
}
