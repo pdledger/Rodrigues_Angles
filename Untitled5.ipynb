{
 "cells": [
  {
   "cell_type": "code",
   "execution_count": null,
   "id": "ff4f8920",
   "metadata": {},
   "outputs": [],
   "source": [
    "10.0 Combination of uR [-8.44566687e-07 -5.28337689e-08 -4.81379867e-08]\n",
    "10.0 Combination of uI [3.57447604e-05 5.12497870e-06 3.80345591e-06]\n",
    "38.31186849557289 Combination of uR [-1.22901476e-05 -7.03780028e-07 -7.72646893e-07]\n",
    "38.31186849557289 Combination of uI [1.35848112e-04 1.45308720e-05 1.95923402e-05]\n",
    "146.77992676220705 Combination of uR [-1.07728943e-05 -1.60264826e-04 -9.77298932e-06]\n",
    "146.77992676220705 Combination of uI [7.28323025e-05 4.66254246e-04 5.35239855e-05]\n",
    "562.341325190349 Combination of uR [-9.09418981e-04 -9.79046145e-05 -8.47601689e-05]\n",
    "562.341325190349 Combination of uI [0.00076354 0.00021256 0.00014259]\n",
    "2154.434690031884 Combination of uR [-0.00153671 -0.0002501  -0.00034633]\n",
    "2154.434690031884 Combination of uI [0.00055274 0.00020787 0.00040749]\n",
    "8254.04185268019 Combination of uR [-0.00045976 -0.00190884 -0.00086027]\n",
    "8254.04185268019 Combination of uI [0.00023828 0.00036272 0.00054665]\n",
    "31622.776601683796 Combination of uR [-0.00213718 -0.00133151 -0.00067817]\n",
    "31622.776601683796 Combination of uI [0.00024122 0.00039387 0.00022568]\n",
    "121152.76586285901 Combination of uR [-0.00086415 -0.0015775  -0.00230562]\n",
    "121152.76586285901 Combination of uI [0.00016717 0.00023694 0.00015636]\n",
    "464158.8833612782 Combination of uR [-0.00239199 -0.0009683  -0.00171633]\n",
    "464158.8833612782 Combination of uI [8.31522997e-05 9.80558612e-05 1.36567224e-04]\n",
    "1778279.4100389227 Combination of uR [-0.00243531 -0.00102408 -0.00179154]\n",
    "1778279.4100389227 Combination of uI [4.41270643e-05 5.51437076e-05 7.50831824e-05]\n",
    "6812920.690579622 Combination of uR [-0.00245782 -0.00183134 -0.00105386]\n",
    "6812920.690579622 Combination of uI [2.31058631e-05 4.03033275e-05 2.99783816e-05]\n",
    "26101572.156825386 Combination of uR [-0.00246943 -0.00185209 -0.00106951]\n",
    "26101572.156825386 Combination of uI [1.19904590e-05 2.12305983e-05 1.59905568e-05]\n",
    "100000000.0 Combination of uR [-0.00247522 -0.00186253 -0.00107741]\n",
    "100000000.0 Combination of uI [6.49818854e-06 1.15625681e-05 8.93804310e-06]\n",
    "[0.00080098 0.00080198 0.00081496 0.00086843 0.00259156 0.00736848\n",
    " 0.04461026 0.12390734 0.08689393 0.07970633 0.07485459 0.07025874\n",
    " 0.05632866]\n",
    "10.0 Combination of uR [-8.44566687e-07 -5.28337689e-08 -4.81379867e-08]\n",
    "10.0 Combination of uI [3.57447604e-05 5.12497870e-06 3.80345591e-06]\n",
    "38.31186849557289 Combination of uR [-1.22901476e-05 -7.03780028e-07 -7.72646893e-07]\n",
    "38.31186849557289 Combination of uI [1.35848112e-04 1.45308720e-05 1.95923402e-05]\n",
    "146.77992676220705 Combination of uR [-1.07728943e-05 -1.60264826e-04 -9.77298932e-06]\n",
    "146.77992676220705 Combination of uI [7.28323025e-05 4.66254246e-04 5.35239855e-05]\n",
    "562.341325190349 Combination of uR [-9.09418981e-04 -9.79046145e-05 -8.47601689e-05]\n",
    "562.341325190349 Combination of uI [0.00076354 0.00021256 0.00014259]\n",
    "2154.434690031884 Combination of uR [-0.00153671 -0.0002501  -0.00034633]\n",
    "2154.434690031884 Combination of uI [0.00055274 0.00020787 0.00040749]\n",
    "8254.04185268019 Combination of uR [-0.00045976 -0.00190884 -0.00086027]\n",
    "8254.04185268019 Combination of uI [0.00023828 0.00036272 0.00054665]\n",
    "31622.776601683796 Combination of uR [-0.00213718 -0.00133151 -0.00067817]\n",
    "31622.776601683796 Combination of uI [0.00024122 0.00039387 0.00022568]\n",
    "121152.76586285901 Combination of uR [-0.00086415 -0.0015775  -0.00230562]\n",
    "121152.76586285901 Combination of uI [0.00016717 0.00023694 0.00015636]\n",
    "464158.8833612782 Combination of uR [-0.00239199 -0.0009683  -0.00171633]\n",
    "464158.8833612782 Combination of uI [8.31522997e-05 9.80558612e-05 1.36567224e-04]\n",
    "1778279.4100389227 Combination of uR [-0.00243531 -0.00102408 -0.00179154]\n",
    "1778279.4100389227 Combination of uI [4.41270643e-05 5.51437076e-05 7.50831824e-05]\n",
    "6812920.690579622 Combination of uR [-0.00245782 -0.00183134 -0.00105386]\n",
    "6812920.690579622 Combination of uI [2.31058631e-05 4.03033275e-05 2.99783816e-05]\n",
    "26101572.156825386 Combination of uR [-0.00246943 -0.00185209 -0.00106951]\n",
    "26101572.156825386 Combination of uI [1.19904590e-05 2.12305983e-05 1.59905568e-05]\n",
    "100000000.0 Combination of uR [-0.00247522 -0.00186253 -0.00107741]\n",
    "100000000.0 Combination of uI [6.49818854e-06 1.15625681e-05 8.93804310e-06]"
   ]
  }
 ],
 "metadata": {
  "kernelspec": {
   "display_name": "Python 3 (ipykernel)",
   "language": "python",
   "name": "python3"
  },
  "language_info": {
   "codemirror_mode": {
    "name": "ipython",
    "version": 3
   },
   "file_extension": ".py",
   "mimetype": "text/x-python",
   "name": "python",
   "nbconvert_exporter": "python",
   "pygments_lexer": "ipython3",
   "version": "3.10.13"
  },
  "varInspector": {
   "cols": {
    "lenName": 16,
    "lenType": 16,
    "lenVar": 40
   },
   "kernels_config": {
    "python": {
     "delete_cmd_postfix": "",
     "delete_cmd_prefix": "del ",
     "library": "var_list.py",
     "varRefreshCmd": "print(var_dic_list())"
    },
    "r": {
     "delete_cmd_postfix": ") ",
     "delete_cmd_prefix": "rm(",
     "library": "var_list.r",
     "varRefreshCmd": "cat(var_dic_list()) "
    }
   },
   "types_to_exclude": [
    "module",
    "function",
    "builtin_function_or_method",
    "instance",
    "_Feature"
   ],
   "window_display": false
  }
 },
 "nbformat": 4,
 "nbformat_minor": 5
}
