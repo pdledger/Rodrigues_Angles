{
 "cells": [
  {
   "cell_type": "code",
   "execution_count": 1,
   "id": "6586cf22",
   "metadata": {},
   "outputs": [],
   "source": [
    "import numpy as np\n",
    "import pandas as pd"
   ]
  },
  {
   "cell_type": "code",
   "execution_count": 4,
   "id": "fc573ec6",
   "metadata": {},
   "outputs": [
    {
     "name": "stdout",
     "output_type": "stream",
     "text": [
      "[[ 1.78875000e-01  1.17700929e-05  2.27198919e-05]\n",
      " [ 2.38500000e-01  7.42633980e-06  2.84329255e-05]\n",
      " [ 2.98125000e-01  2.72987267e-06  3.31019917e-05]\n",
      " [ 3.57750000e-01 -2.08920228e-06  3.68109117e-05]\n",
      " [ 4.77000000e-01 -1.12476591e-05  4.17705078e-05]\n",
      " [ 5.96250000e-01 -1.94441316e-05  4.45309703e-05]\n",
      " [ 7.15500000e-01 -2.64938081e-05  4.58880039e-05]\n",
      " [ 9.54000000e-01 -3.76067818e-05  4.64243956e-05]\n",
      " [ 1.19250000e+00 -4.57945410e-05  4.57305893e-05]\n",
      " [ 1.43100000e+00 -5.19972312e-05  4.46931711e-05]\n",
      " [ 1.90800000e+00 -6.07767367e-05  4.26374595e-05]\n",
      " [ 2.38500000e+00 -6.69111859e-05  4.10442534e-05]\n",
      " [ 2.86200000e+00 -7.15692366e-05  3.98408269e-05]\n",
      " [ 3.81600000e+00 -7.85180037e-05  3.81836484e-05]\n",
      " [ 4.77000000e+00 -8.36772886e-05  3.46976781e-05]\n",
      " [ 5.72400000e+00 -8.78039744e-05  3.62467149e-05]\n",
      " [ 7.63200000e+00 -9.41345303e-05  3.50765776e-05]\n",
      " [ 9.54000000e+00 -9.89109065e-05  3.42445048e-05]\n",
      " [ 1.24020000e+01 -1.04377109e-04  3.33604701e-05]\n",
      " [ 1.62180000e+01 -1.09834178e-04  3.25800094e-05]\n",
      " [ 2.09880000e+01 -1.15022495e-04  3.19459864e-05]\n",
      " [ 2.67120000e+01 -1.19861251e-04  3.14046212e-05]\n",
      " [ 3.43440000e+01 -1.24892582e-04  3.08598961e-05]\n",
      " [ 4.38840000e+01 -1.29784448e-04  3.03140013e-05]\n",
      " [ 5.72400000e+01 -1.35057620e-04  2.98060096e-05]\n",
      " [ 7.34580000e+01 -1.39987081e-04  2.93832992e-05]\n",
      " [ 9.54000000e+01 -1.45257053e-04  2.88678148e-05]]\n"
     ]
    }
   ],
   "source": [
    "# Eigenvalue 1\n",
    "d = pd.read_csv('john_measurements/3_bladed/3_Bladed_Throwing_Knife_eigenvalue_1.csv')\n",
    " \n",
    "df = d.values\n",
    "print(df)\n",
    "Frequencies = df[:,0]\n",
    "np.shape(Frequencies)"
   ]
  },
  {
   "cell_type": "code",
   "execution_count": null,
   "id": "23094631",
   "metadata": {},
   "outputs": [],
   "source": []
  }
 ],
 "metadata": {
  "kernelspec": {
   "display_name": "Python 3 (ipykernel)",
   "language": "python",
   "name": "python3"
  },
  "language_info": {
   "codemirror_mode": {
    "name": "ipython",
    "version": 3
   },
   "file_extension": ".py",
   "mimetype": "text/x-python",
   "name": "python",
   "nbconvert_exporter": "python",
   "pygments_lexer": "ipython3",
   "version": "3.10.12"
  }
 },
 "nbformat": 4,
 "nbformat_minor": 5
}
