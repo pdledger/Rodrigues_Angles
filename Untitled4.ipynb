{
 "cells": [
  {
   "cell_type": "code",
   "execution_count": 69,
   "id": "f1b5463f",
   "metadata": {},
   "outputs": [
    {
     "data": {
      "text/plain": [
       "40"
      ]
     },
     "execution_count": 69,
     "metadata": {},
     "output_type": "execute_result"
    }
   ],
   "source": [
    "MaxOmega=1e8\n",
    "p=4\n",
    "mu=20\n",
    "\n",
    "#directory=\"OCC_Gun_modelv2_nonsym_StainSt/al_0.01_mu_1,\"+str(mu)+\"_sig_1.45e6,4.5e6/1e1-1e8_100_el_26657_ord_\"+str(p)+\"_POD_13_1e-6/Data/\"\n",
    "directory=\"CSG_TwoTetra/al_0.001_mu_32_sig_1e7/1e1-1e8_40_el_24874_ord_3_POD_13_1e-7/Data/\"\n",
    "\n",
    "\n",
    "# Read data\n",
    "TensorArray = np.genfromtxt(directory+'Tensors.csv', dtype=complex, delimiter=', ')\n",
    "N0 =          np.genfromtxt(directory+'N0.csv', dtype=float, delimiter=',')\n",
    "Frequencies = np.genfromtxt(directory+'Frequencies.csv', dtype=float, delimiter=', ')\n",
    "len(Frequencies)"
   ]
  },
  {
   "cell_type": "code",
   "execution_count": null,
   "id": "607513a9",
   "metadata": {},
   "outputs": [],
   "source": []
  },
  {
   "cell_type": "code",
   "execution_count": 70,
   "id": "50fdcd57",
   "metadata": {},
   "outputs": [],
   "source": [
    "from src.SplitTensor import *\n",
    "Rstore,Istore,Rtildestore, N0store = SplitTensor(TensorArray,Frequencies,N0)"
   ]
  },
  {
   "cell_type": "code",
   "execution_count": 71,
   "id": "7bddf476",
   "metadata": {
    "scrolled": false
   },
   "outputs": [
    {
     "name": "stdout",
     "output_type": "stream",
     "text": [
      "10.0 1.9968943240359155793\n",
      "10.0 2.2973669490563886113e-11\n",
      "15.117750706156622 1.9968967681010994111\n",
      "15.117750706156622 3.4739640971014227325e-11\n",
      "22.854638641349908 1.9968983342523036282\n",
      "22.854638641349908 5.2538206440154989336e-11\n",
      "34.55107294592218 1.9968993489669762915\n",
      "34.55107294592218 7.9470874475920805637e-11\n",
      "52.23345074266843 1.9969000167515419984\n",
      "52.23345074266843 1.202445447523557206e-10\n",
      "78.96522868499724 1.9969004759743775239\n",
      "78.96522868499724 1.8201612744529001304e-10\n",
      "119.37766417144357 1.9969008395588933689\n",
      "119.37766417144357 2.756983438752821759e-10\n",
      "180.47217668271702 1.9969012385916394219\n",
      "180.47217668271702 4.1799824303609599644e-10\n",
      "272.83333764867695 1.9969018943044216289\n",
      "272.83333764867695 6.346403397218309202e-10\n",
      "412.4626382901352 1.9969032657789835866\n",
      "412.4626382901352 9.655411873209212754e-10\n",
      "623.5507341273913 1.9969063746478732001\n",
      "623.5507341273913 1.4732455950537906747e-09\n",
      "942.6684551178854 1.9969135207358864579\n",
      "942.6684551178854 2.256801995782672362e-09\n",
      "1425.1026703029977 1.9969297988872920758\n",
      "1425.1026703029977 3.474273333385150256e-09\n",
      "2154.4346900318847 1.9969659662280535234\n",
      "2154.4346900318847 5.376574758226195712e-09\n",
      "3257.020655659783 1.9970421926819042358\n",
      "3257.020655659783 8.345983983351058252e-09\n",
      "4923.882631706741 1.9971864627564573151\n",
      "4923.882631706741 1.28948757121847828685e-08\n",
      "7443.803013251689 1.9974116509118567909\n",
      "7443.803013251689 1.9510233300473862805e-08\n",
      "11253.355826007646 1.9976836957922445011\n",
      "11253.355826007646 2.8313506148712218135e-08\n",
      "17012.54279852589 1.9979627920067862058\n",
      "17012.54279852589 3.8994112640515065175e-08\n",
      "25719.13809059347 1.9982264066688121966\n",
      "25719.13809059347 5.1263058667705213323e-08\n",
      "38881.55180308085 1.9983828180046550027\n",
      "38881.55180308085 6.4952657830086900444e-08\n",
      "58780.16072274912 1.9984042966948245013\n",
      "58780.16072274912 7.979387080844289335e-08\n",
      "88862.38162743408 1.9983774299250973707\n",
      "88862.38162743408 9.542266099700423869e-08\n",
      "134339.93325989015 1.9982562544802270488\n",
      "134339.93325989015 1.11372177234640193306e-07\n",
      "203091.76209047346 1.9979374525328921392\n",
      "203091.76209047346 1.2715556960335898524e-07\n",
      "307029.062975785 1.997431989469002804\n",
      "307029.062975785 1.4237169056944850993e-07\n",
      "464158.8833612782 1.9964778609198303261\n",
      "464158.8833612782 1.5648579268568455816e-07\n",
      "701703.8286703823 1.9945638586435660305\n",
      "701703.8286703823 1.6928367043699407558e-07\n",
      "1060818.3551394483 1.9908543026713902029\n",
      "1060818.3551394483 1.8032484638195628474e-07\n",
      "1603718.743751331 1.983218965621080282\n",
      "1603718.743751331 1.891359532096387356e-07\n",
      "2424462.017082331 1.9697040784216397006\n",
      "2424462.017082331 1.9615308327660128203e-07\n",
      "3665241.237079626 1.9435564990160324713\n",
      "3665241.237079626 2.017868326517355229e-07\n",
      "5541020.330009492 1.8035887114051360856\n",
      "5541020.330009492 2.0643868272524821056e-07\n",
      "8376776.400682924 0.37845236232404515296\n",
      "8376776.400682924 2.1058435054849327215e-07\n",
      "12663801.734674022 0.077305682662480639664\n",
      "12663801.734674022 2.1386243054044665931e-07\n",
      "19144819.761699576 0.021745718326746830139\n",
      "19144819.761699576 2.1592039105875819976e-07\n",
      "28942661.247167516 0.0066799195377793361956\n",
      "28942661.247167516 2.1740574946007758404e-07\n",
      "43754793.75074189 0.0025493283659876127076\n",
      "43754793.75074189 2.1887726320803177448e-07\n",
      "66147406.41230146 0.002622339262944461563\n",
      "66147406.41230146 2.1995869700024331089e-07\n",
      "100000000.0 0.003798823459850336407\n",
      "100000000.0 2.2024698369870886481e-07\n"
     ]
    }
   ],
   "source": [
    "for n in range(len(Frequencies)):\n",
    "        Mlist = TensorArray[n,:]\n",
    "        Mten = np.array([[Mlist[0], Mlist[1], Mlist[2]],[Mlist[3], Mlist[4], Mlist[5]],[Mlist[6], Mlist[7], Mlist[8]]], dtype=np.longcomplex)\n",
    "        Rtilde = np.real(Mten)#+np.diag(np.random.rand(3))*tol\n",
    "        I = np.imag(Mten)#+np.diag(np.random.rand(3))*tol\n",
    "        R = (np.real(Mten)-N0)\n",
    "\n",
    "        uR,VR = np.linalg.eig(R.astype(dtype=float))\n",
    "        uRtilde,VRtilde = np.linalg.eig(Rtilde.astype(dtype=float))\n",
    "        uI,VI = np.linalg.eig(I.astype(dtype=float))\n",
    "        uN0,VN0 = np.linalg.eig(N0.astype(dtype=float))\n",
    "        uI=np.sort(uI)\n",
    "        uR=np.sort(uR)\n",
    "        evlist=np.zeros(3)\n",
    "        evlist[0]= - (uI[1]-uI[2])*(uR[1]-uR[2])\n",
    "        evlist[1]= - (uI[0]-uI[2])*(uR[0]-uR[2])\n",
    "        evlist[2]= - (uI[0]-uI[1])*(uR[0]-uR[1])\n",
    "\n",
    "\n",
    "        normalisation_min = np.min(np.abs(evlist))\n",
    "        normalisation_max = np.max(np.abs(evlist))\n",
    "#        print(Frequencies[n],np.abs(np.linalg.norm(R-I,ord='fro')**2-np.linalg.norm(uR-uI)**2),normalisation_min,normalisation_max)\n",
    "        print(Frequencies[n],np.min([np.abs(np.linalg.norm(R-I,ord='fro')**2-np.linalg.norm(uR-uI)**2)/normalisation_min,\n",
    "                                      np.abs(np.linalg.norm(R-I,ord='fro')**2-np.linalg.norm(uR-uI)**2)/normalisation_max]))\n",
    "    \n",
    "\n",
    "        uI=np.argsort(-(uI))\n",
    "        uR=np.argsort(-(uR))\n",
    "        evlist=np.zeros(3)\n",
    "        evlist[0]= - (uI[1]-uI[2])*(uR[1]-uR[2])\n",
    "        evlist[1]= - (uI[0]-uI[2])*(uR[0]-uR[2])\n",
    "        evlist[2]= - (uI[0]-uI[1])*(uR[0]-uR[1])\n",
    "\n",
    "\n",
    "        normalisation_min = np.min(np.abs(evlist))\n",
    "        normalisation_max = np.max(np.abs(evlist))\n",
    "#        print(Frequencies[n],np.abs(np.linalg.norm(R-I,ord='fro')**2-np.linalg.norm(uR-uI)**2),normalisation_min,normalisation_max)\n",
    "        print(Frequencies[n],np.sqrt(np.min([np.abs(np.linalg.norm(R-I,ord='fro')**2-np.linalg.norm(uR-uI)**2)/normalisation_min,\n",
    "                                      np.abs(np.linalg.norm(R-I,ord='fro')**2-np.linalg.norm(uR-uI)**2)/normalisation_max])))\n",
    "       \n",
    "    "
   ]
  },
  {
   "cell_type": "code",
   "execution_count": 63,
   "id": "118f66bd",
   "metadata": {},
   "outputs": [
    {
     "data": {
      "text/plain": [
       "1.9403493531351731372e-13"
      ]
     },
     "execution_count": 63,
     "metadata": {},
     "output_type": "execute_result"
    }
   ],
   "source": [
    "np.linalg.norm(R-I,ord='fro')**2\n"
   ]
  },
  {
   "cell_type": "code",
   "execution_count": 26,
   "id": "da0d3c7e",
   "metadata": {},
   "outputs": [],
   "source": [
    "ind = np.argsort(np.abs(uR))\n",
    "uR = uR[ind]\n",
    "VR = VR[:,ind]"
   ]
  },
  {
   "cell_type": "code",
   "execution_count": 27,
   "id": "118b0f24",
   "metadata": {},
   "outputs": [],
   "source": [
    "ind = np.argsort(np.abs(uI))\n",
    "uI = uI[ind]\n",
    "VI = VI[:,ind]"
   ]
  },
  {
   "cell_type": "code",
   "execution_count": 28,
   "id": "9688b01f",
   "metadata": {},
   "outputs": [
    {
     "data": {
      "text/plain": [
       "array([-0.00066161, -0.00130554, -0.00211117])"
      ]
     },
     "execution_count": 28,
     "metadata": {},
     "output_type": "execute_result"
    }
   ],
   "source": [
    "uR"
   ]
  },
  {
   "cell_type": "code",
   "execution_count": 29,
   "id": "4b9f70fc",
   "metadata": {},
   "outputs": [
    {
     "data": {
      "text/plain": [
       "array([0.00021703, 0.00023551, 0.00039344])"
      ]
     },
     "execution_count": 29,
     "metadata": {},
     "output_type": "execute_result"
    }
   ],
   "source": [
    "uI"
   ]
  },
  {
   "cell_type": "code",
   "execution_count": 30,
   "id": "355baa80",
   "metadata": {},
   "outputs": [
    {
     "data": {
      "text/plain": [
       "9.419950715314143e-06"
      ]
     },
     "execution_count": 30,
     "metadata": {},
     "output_type": "execute_result"
    }
   ],
   "source": [
    "np.linalg.norm(uR-uI)**2"
   ]
  },
  {
   "cell_type": "code",
   "execution_count": 31,
   "id": "3b300205",
   "metadata": {},
   "outputs": [
    {
     "name": "stdout",
     "output_type": "stream",
     "text": [
      "[0.00021703 0.00023551 0.00039344] [-0.00211117 -0.00130554 -0.00066161]\n"
     ]
    }
   ],
   "source": [
    "uI=np.sort(uI)\n",
    "uR=np.sort(uR)\n",
    "print(uI,uR)"
   ]
  },
  {
   "cell_type": "code",
   "execution_count": 32,
   "id": "d5b2b093",
   "metadata": {},
   "outputs": [
    {
     "data": {
      "text/plain": [
       "8.908523437197729e-06"
      ]
     },
     "execution_count": 32,
     "metadata": {},
     "output_type": "execute_result"
    }
   ],
   "source": [
    "np.linalg.norm(uR-uI)**2"
   ]
  },
  {
   "cell_type": "code",
   "execution_count": 33,
   "id": "c592fcf2",
   "metadata": {},
   "outputs": [
    {
     "data": {
      "text/plain": [
       "array([[-2.11116830e-03, -1.05895887e-06, -1.24152715e-06],\n",
       "       [-1.05895887e-06, -1.30547522e-03, -6.70392937e-06],\n",
       "       [-1.24152715e-06, -6.70392937e-06, -6.61682547e-04]],\n",
       "      dtype=float128)"
      ]
     },
     "execution_count": 33,
     "metadata": {},
     "output_type": "execute_result"
    }
   ],
   "source": [
    "R"
   ]
  },
  {
   "cell_type": "code",
   "execution_count": 34,
   "id": "79d6ab0b",
   "metadata": {},
   "outputs": [
    {
     "data": {
      "text/plain": [
       "array([[ 2.35456658e-04, -3.84215106e-07,  1.01969452e-06],\n",
       "       [-3.84215106e-07,  3.93432455e-04,  1.16156971e-06],\n",
       "       [ 1.01969452e-06,  1.16156971e-06,  2.17097499e-04]],\n",
       "      dtype=float128)"
      ]
     },
     "execution_count": 34,
     "metadata": {},
     "output_type": "execute_result"
    }
   ],
   "source": [
    "I"
   ]
  },
  {
   "cell_type": "code",
   "execution_count": null,
   "id": "d047f56c",
   "metadata": {},
   "outputs": [],
   "source": []
  }
 ],
 "metadata": {
  "kernelspec": {
   "display_name": "Python 3 (ipykernel)",
   "language": "python",
   "name": "python3"
  },
  "language_info": {
   "codemirror_mode": {
    "name": "ipython",
    "version": 3
   },
   "file_extension": ".py",
   "mimetype": "text/x-python",
   "name": "python",
   "nbconvert_exporter": "python",
   "pygments_lexer": "ipython3",
   "version": "3.10.13"
  },
  "varInspector": {
   "cols": {
    "lenName": 16,
    "lenType": 16,
    "lenVar": 40
   },
   "kernels_config": {
    "python": {
     "delete_cmd_postfix": "",
     "delete_cmd_prefix": "del ",
     "library": "var_list.py",
     "varRefreshCmd": "print(var_dic_list())"
    },
    "r": {
     "delete_cmd_postfix": ") ",
     "delete_cmd_prefix": "rm(",
     "library": "var_list.r",
     "varRefreshCmd": "cat(var_dic_list()) "
    }
   },
   "types_to_exclude": [
    "module",
    "function",
    "builtin_function_or_method",
    "instance",
    "_Feature"
   ],
   "window_display": false
  }
 },
 "nbformat": 4,
 "nbformat_minor": 5
}
